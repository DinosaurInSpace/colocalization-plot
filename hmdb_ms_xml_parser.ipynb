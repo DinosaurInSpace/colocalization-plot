{
 "cells": [
  {
   "cell_type": "markdown",
   "metadata": {},
   "source": [
    "The goal of this script to to identify an efficient method to parse the hmdb xml spectra.  Turn this into an optimized program after getting basic functionality working.\n",
    "\n",
    "Files: xml experimental_MSMS_spectra are metadata, txt files are peak lists"
   ]
  },
  {
   "cell_type": "code",
   "execution_count": 94,
   "metadata": {},
   "outputs": [],
   "source": [
    "import pandas as pd\n",
    "from pandas import DataFrame as df\n",
    "import numpy as np\n",
    "import pickle\n",
    "from sklearn.preprocessing import normalize\n",
    "import matplotlib.pyplot as plt\n",
    "import xml.etree.ElementTree as ET"
   ]
  },
  {
   "cell_type": "code",
   "execution_count": 95,
   "metadata": {},
   "outputs": [],
   "source": [
    "meta_path = './HMDB0000001_ms_ms_spectrum_1_experimental.xml'\n",
    "spectra_path = './HMDB0000001_msms_1_2_experimental.txt'"
   ]
  },
  {
   "cell_type": "code",
   "execution_count": 96,
   "metadata": {},
   "outputs": [],
   "source": [
    "spectra_df = pd.read_csv(spectra_path, sep='\\t', header=None)\n",
    "spectra_df.columns = ['mz', 'i']"
   ]
  },
  {
   "cell_type": "code",
   "execution_count": 97,
   "metadata": {},
   "outputs": [
    {
     "data": {
      "text/html": [
       "<div>\n",
       "<style scoped>\n",
       "    .dataframe tbody tr th:only-of-type {\n",
       "        vertical-align: middle;\n",
       "    }\n",
       "\n",
       "    .dataframe tbody tr th {\n",
       "        vertical-align: top;\n",
       "    }\n",
       "\n",
       "    .dataframe thead th {\n",
       "        text-align: right;\n",
       "    }\n",
       "</style>\n",
       "<table border=\"1\" class=\"dataframe\">\n",
       "  <thead>\n",
       "    <tr style=\"text-align: right;\">\n",
       "      <th></th>\n",
       "      <th>mz</th>\n",
       "      <th>i</th>\n",
       "    </tr>\n",
       "  </thead>\n",
       "  <tbody>\n",
       "    <tr>\n",
       "      <th>0</th>\n",
       "      <td>50.22</td>\n",
       "      <td>214.1747</td>\n",
       "    </tr>\n",
       "    <tr>\n",
       "      <th>1</th>\n",
       "      <td>50.76</td>\n",
       "      <td>180.9845</td>\n",
       "    </tr>\n",
       "    <tr>\n",
       "      <th>2</th>\n",
       "      <td>50.94</td>\n",
       "      <td>217.2800</td>\n",
       "    </tr>\n",
       "    <tr>\n",
       "      <th>3</th>\n",
       "      <td>51.00</td>\n",
       "      <td>193.8255</td>\n",
       "    </tr>\n",
       "    <tr>\n",
       "      <th>4</th>\n",
       "      <td>51.12</td>\n",
       "      <td>222.1745</td>\n",
       "    </tr>\n",
       "  </tbody>\n",
       "</table>\n",
       "</div>"
      ],
      "text/plain": [
       "      mz         i\n",
       "0  50.22  214.1747\n",
       "1  50.76  180.9845\n",
       "2  50.94  217.2800\n",
       "3  51.00  193.8255\n",
       "4  51.12  222.1745"
      ]
     },
     "execution_count": 97,
     "metadata": {},
     "output_type": "execute_result"
    }
   ],
   "source": [
    "spectra_df.head(5)"
   ]
  },
  {
   "cell_type": "code",
   "execution_count": 98,
   "metadata": {},
   "outputs": [
    {
     "data": {
      "image/png": "[encoded data removed]",
      "text/plain": [
       "<Figure size 432x288 with 1 Axes>"
      ]
     },
     "metadata": {
      "needs_background": "light"
     },
     "output_type": "display_data"
    }
   ],
   "source": [
    "x = spectra_df.mz\n",
    "y = spectra_df.i\n",
    "plt.scatter(x, y)\n",
    "plt.title('hmDB000001')\n",
    "plt.xlabel('m//z')\n",
    "plt.ylabel('intensity')\n",
    "plt.show()"
   ]
  },
  {
   "cell_type": "code",
   "execution_count": 99,
   "metadata": {},
   "outputs": [],
   "source": [
    "norm_df = spectra_df.copy(deep=True)"
   ]
  },
  {
   "cell_type": "code",
   "execution_count": 100,
   "metadata": {},
   "outputs": [],
   "source": [
    "norm_df['i'] = norm_df['i'] / norm_df['i'].max()"
   ]
  },
  {
   "cell_type": "code",
   "execution_count": null,
   "metadata": {},
   "outputs": [],
   "source": []
  },
  {
   "cell_type": "code",
   "execution_count": 101,
   "metadata": {},
   "outputs": [
    {
     "data": {
      "image/png": "[encoded data removed]",
      "text/plain": [
       "<Figure size 432x288 with 1 Axes>"
      ]
     },
     "metadata": {
      "needs_background": "light"
     },
     "output_type": "display_data"
    }
   ],
   "source": [
    "x = norm_df.mz\n",
    "y = norm_df.i\n",
    "plt.scatter(x, y)\n",
    "plt.title('hmDB000001')\n",
    "plt.xlabel('m//z')\n",
    "plt.ylabel('intensity')\n",
    "plt.show()"
   ]
  },
  {
   "cell_type": "code",
   "execution_count": 102,
   "metadata": {},
   "outputs": [],
   "source": [
    "tree = ET.parse(meta_path)\n",
    "root = tree.getroot()"
   ]
  },
  {
   "cell_type": "code",
   "execution_count": 103,
   "metadata": {},
   "outputs": [
    {
     "data": {
      "text/plain": [
       "'ms-ms'"
      ]
     },
     "execution_count": 103,
     "metadata": {},
     "output_type": "execute_result"
    }
   ],
   "source": [
    "root.tag"
   ]
  },
  {
   "cell_type": "code",
   "execution_count": 110,
   "metadata": {},
   "outputs": [
    {
     "ename": "AttributeError",
     "evalue": "'xml.etree.ElementTree.Element' object has no attribute 'notes'",
     "output_type": "error",
     "traceback": [
      "\u001b[0;31m---------------------------------------------------------------------------\u001b[0m",
      "\u001b[0;31mAttributeError\u001b[0m                            Traceback (most recent call last)",
      "\u001b[0;32m<ipython-input-110-c410eb9af21d>\u001b[0m in \u001b[0;36m<module>\u001b[0;34m()\u001b[0m\n\u001b[0;32m----> 1\u001b[0;31m \u001b[0mroot\u001b[0m\u001b[0;34m.\u001b[0m\u001b[0mnotes\u001b[0m\u001b[0;34m\u001b[0m\u001b[0m\n\u001b[0m",
      "\u001b[0;31mAttributeError\u001b[0m: 'xml.etree.ElementTree.Element' object has no attribute 'notes'"
     ]
    }
   ],
   "source": [
    "root.notes"
   ]
  },
  {
   "cell_type": "code",
   "execution_count": 117,
   "metadata": {},
   "outputs": [
    {
     "data": {
      "text/plain": [
       "['ms-ms',\n",
       " 'id',\n",
       " 'notes',\n",
       " 'sample-concentration',\n",
       " 'solvent',\n",
       " 'sample-mass',\n",
       " 'sample-assessment',\n",
       " 'spectra-assessment',\n",
       " 'sample-source',\n",
       " 'collection-date',\n",
       " 'instrument-type',\n",
       " 'peak-counter',\n",
       " 'created-at',\n",
       " 'updated-at',\n",
       " 'mono-mass',\n",
       " 'energy-field',\n",
       " 'collision-energy-level',\n",
       " 'collision-energy-voltage',\n",
       " 'ionization-mode',\n",
       " 'sample-concentration-units',\n",
       " 'sample-mass-units',\n",
       " 'predicted',\n",
       " 'structure-id',\n",
       " 'splash-key',\n",
       " 'database-id',\n",
       " 'references',\n",
       " 'reference',\n",
       " 'id',\n",
       " 'spectra-id',\n",
       " 'spectra-type',\n",
       " 'pubmed-id',\n",
       " 'ref-text',\n",
       " 'database',\n",
       " 'database-id',\n",
       " 'ms-ms-peaks',\n",
       " 'ms-ms-peak',\n",
       " 'id',\n",
       " 'ms-ms-id',\n",
       " 'mass-charge',\n",
       " 'intensity',\n",
       " 'molecule-id',\n",
       " 'ms-ms-peak',\n",
       " 'id',\n",
       " 'ms-ms-id',\n",
       " 'mass-charge',\n",
       " 'intensity',\n",
       " 'molecule-id',\n",
       " 'ms-ms-peak',\n",
       " 'id',\n",
       " 'ms-ms-id',\n",
       " 'mass-charge',\n",
       " 'intensity',\n",
       " 'molecule-id',\n",
       " 'ms-ms-peak',\n",
       " 'id',\n",
       " 'ms-ms-id',\n",
       " 'mass-charge',\n",
       " 'intensity',\n",
       " 'molecule-id',\n",
       " 'ms-ms-peak',\n",
       " 'id',\n",
       " 'ms-ms-id',\n",
       " 'mass-charge',\n",
       " 'intensity',\n",
       " 'molecule-id']"
      ]
     },
     "execution_count": 117,
     "metadata": {},
     "output_type": "execute_result"
    }
   ],
   "source": [
    "[elem.tag for elem in root.iter()]"
   ]
  },
  {
   "cell_type": "code",
   "execution_count": null,
   "metadata": {},
   "outputs": [],
   "source": []
  },
  {
   "cell_type": "code",
   "execution_count": 120,
   "metadata": {},
   "outputs": [
    {
     "data": {
      "text/plain": [
       "['\\n  ',\n",
       " '1',\n",
       " 'delivery=LC\\nanalyzer=Triple_Quad',\n",
       " None,\n",
       " None,\n",
       " '1.0',\n",
       " 'Excellent',\n",
       " 'Excellent',\n",
       " None,\n",
       " '2007-01-29',\n",
       " 'Quattro_QQQ',\n",
       " '1610',\n",
       " '2012-07-24T19:14:19Z',\n",
       " '2016-05-12T04:26:04Z',\n",
       " None,\n",
       " None,\n",
       " 'low',\n",
       " '10',\n",
       " 'Positive',\n",
       " None,\n",
       " 'mg',\n",
       " 'false',\n",
       " '8997',\n",
       " 'splash10-00di-0900000000-037d24a7d65676b7e356',\n",
       " 'HMDB0000001',\n",
       " '\\n    ',\n",
       " '\\n      ',\n",
       " '1',\n",
       " '1',\n",
       " 'MsMs',\n",
       " '18953024',\n",
       " 'Wishart DS, Knox C, Guo AC, Eisner R, Young N, Gautam B, Hau DD, Psychogios N, Dong E, Bouatra S, Mandal R, Sinelnikov I, Xia J, Jia L, Cruz JA, Lim E, Sobsey CA, Shrivastava S, Huang P, Liu P, Fang L, Peng J, Fradette R, Cheng D, Tzur D, Clements M, Lewis A, De Souza A, Zuniga A, Dawe M, Xiong Y, Clive D, Greiner R, Nazyrova A, Shaykhutdinov R, Li L, Vogel HJ, Forsythe I: HMDB: a knowledgebase for the human metabolome. Nucleic Acids Res. 2009 Jan;37(Database issue):D603-10. doi: 10.1093/nar/gkn810. Epub 2008 Oct 25.',\n",
       " 'HMDB',\n",
       " 'HMDB00001',\n",
       " '\\n    ',\n",
       " '\\n      ',\n",
       " '579',\n",
       " '1',\n",
       " '109.2',\n",
       " '3.4069997949',\n",
       " None,\n",
       " '\\n      ',\n",
       " '824',\n",
       " '1',\n",
       " '124.2',\n",
       " '47.4945730526',\n",
       " None,\n",
       " '\\n      ',\n",
       " '829',\n",
       " '1',\n",
       " '124.5',\n",
       " '3.0943658252',\n",
       " None,\n",
       " '\\n      ',\n",
       " '1325',\n",
       " '1',\n",
       " '170.16',\n",
       " '100.0',\n",
       " None,\n",
       " '\\n      ',\n",
       " '1331',\n",
       " '1',\n",
       " '170.52',\n",
       " '13.2396931601',\n",
       " None]"
      ]
     },
     "execution_count": 120,
     "metadata": {},
     "output_type": "execute_result"
    }
   ],
   "source": [
    "[elem.text for elem in root.iter()]"
   ]
  },
  {
   "cell_type": "code",
   "execution_count": 119,
   "metadata": {},
   "outputs": [
    {
     "name": "stdout",
     "output_type": "stream",
     "text": [
      "<?xml version='1.0' encoding='utf8'?>\n",
      "<ms-ms>\n",
      "  <id>1</id>\n",
      "  <notes>delivery=LC\n",
      "analyzer=Triple_Quad</notes>\n",
      "  <sample-concentration nil=\"true\" />\n",
      "  <solvent nil=\"true\" />\n",
      "  <sample-mass>1.0</sample-mass>\n",
      "  <sample-assessment>Excellent</sample-assessment>\n",
      "  <spectra-assessment>Excellent</spectra-assessment>\n",
      "  <sample-source nil=\"true\" />\n",
      "  <collection-date>2007-01-29</collection-date>\n",
      "  <instrument-type>Quattro_QQQ</instrument-type>\n",
      "  <peak-counter>1610</peak-counter>\n",
      "  <created-at>2012-07-24T19:14:19Z</created-at>\n",
      "  <updated-at>2016-05-12T04:26:04Z</updated-at>\n",
      "  <mono-mass nil=\"true\" />\n",
      "  <energy-field nil=\"true\" />\n",
      "  <collision-energy-level>low</collision-energy-level>\n",
      "  <collision-energy-voltage>10</collision-energy-voltage>\n",
      "  <ionization-mode>Positive</ionization-mode>\n",
      "  <sample-concentration-units nil=\"true\" />\n",
      "  <sample-mass-units>mg</sample-mass-units>\n",
      "  <predicted>false</predicted>\n",
      "  <structure-id>8997</structure-id>\n",
      "  <splash-key>splash10-00di-0900000000-037d24a7d65676b7e356</splash-key>\n",
      "  <database-id>HMDB0000001</database-id>\n",
      "  <references>\n",
      "    <reference>\n",
      "      <id>1</id>\n",
      "      <spectra-id>1</spectra-id>\n",
      "      <spectra-type>MsMs</spectra-type>\n",
      "      <pubmed-id>18953024</pubmed-id>\n",
      "      <ref-text>Wishart DS, Knox C, Guo AC, Eisner R, Young N, Gautam B, Hau DD, Psychogios N, Dong E, Bouatra S, Mandal R, Sinelnikov I, Xia J, Jia L, Cruz JA, Lim E, Sobsey CA, Shrivastava S, Huang P, Liu P, Fang L, Peng J, Fradette R, Cheng D, Tzur D, Clements M, Lewis A, De Souza A, Zuniga A, Dawe M, Xiong Y, Clive D, Greiner R, Nazyrova A, Shaykhutdinov R, Li L, Vogel HJ, Forsythe I: HMDB: a knowledgebase for the human metabolome. Nucleic Acids Res. 2009 Jan;37(Database issue):D603-10. doi: 10.1093/nar/gkn810. Epub 2008 Oct 25.</ref-text>\n",
      "      <database>HMDB</database>\n",
      "      <database-id>HMDB00001</database-id>\n",
      "    </reference>\n",
      "  </references>\n",
      "  <ms-ms-peaks>\n",
      "    <ms-ms-peak>\n",
      "      <id>579</id>\n",
      "      <ms-ms-id>1</ms-ms-id>\n",
      "      <mass-charge>109.2</mass-charge>\n",
      "      <intensity>3.4069997949</intensity>\n",
      "      <molecule-id nil=\"true\" />\n",
      "    </ms-ms-peak>\n",
      "    <ms-ms-peak>\n",
      "      <id>824</id>\n",
      "      <ms-ms-id>1</ms-ms-id>\n",
      "      <mass-charge>124.2</mass-charge>\n",
      "      <intensity>47.4945730526</intensity>\n",
      "      <molecule-id nil=\"true\" />\n",
      "    </ms-ms-peak>\n",
      "    <ms-ms-peak>\n",
      "      <id>829</id>\n",
      "      <ms-ms-id>1</ms-ms-id>\n",
      "      <mass-charge>124.5</mass-charge>\n",
      "      <intensity>3.0943658252</intensity>\n",
      "      <molecule-id nil=\"true\" />\n",
      "    </ms-ms-peak>\n",
      "    <ms-ms-peak>\n",
      "      <id>1325</id>\n",
      "      <ms-ms-id>1</ms-ms-id>\n",
      "      <mass-charge>170.16</mass-charge>\n",
      "      <intensity>100.0</intensity>\n",
      "      <molecule-id nil=\"true\" />\n",
      "    </ms-ms-peak>\n",
      "    <ms-ms-peak>\n",
      "      <id>1331</id>\n",
      "      <ms-ms-id>1</ms-ms-id>\n",
      "      <mass-charge>170.52</mass-charge>\n",
      "      <intensity>13.2396931601</intensity>\n",
      "      <molecule-id nil=\"true\" />\n",
      "    </ms-ms-peak>\n",
      "  </ms-ms-peaks>\n",
      "</ms-ms>\n"
     ]
    }
   ],
   "source": [
    "print(ET.tostring(root, encoding='utf8').decode('utf8'))"
   ]
  },
  {
   "cell_type": "code",
   "execution_count": 125,
   "metadata": {},
   "outputs": [],
   "source": [
    "meta_dict = {}\n",
    "for elem in root.iter():\n",
    "    meta_dict[elem.tag] = elem.text"
   ]
  },
  {
   "cell_type": "code",
   "execution_count": 126,
   "metadata": {},
   "outputs": [
    {
     "data": {
      "text/plain": [
       "{'ms-ms': '\\n  ',\n",
       " 'id': '1331',\n",
       " 'notes': 'delivery=LC\\nanalyzer=Triple_Quad',\n",
       " 'sample-concentration': None,\n",
       " 'solvent': None,\n",
       " 'sample-mass': '1.0',\n",
       " 'sample-assessment': 'Excellent',\n",
       " 'spectra-assessment': 'Excellent',\n",
       " 'sample-source': None,\n",
       " 'collection-date': '2007-01-29',\n",
       " 'instrument-type': 'Quattro_QQQ',\n",
       " 'peak-counter': '1610',\n",
       " 'created-at': '2012-07-24T19:14:19Z',\n",
       " 'updated-at': '2016-05-12T04:26:04Z',\n",
       " 'mono-mass': None,\n",
       " 'energy-field': None,\n",
       " 'collision-energy-level': 'low',\n",
       " 'collision-energy-voltage': '10',\n",
       " 'ionization-mode': 'Positive',\n",
       " 'sample-concentration-units': None,\n",
       " 'sample-mass-units': 'mg',\n",
       " 'predicted': 'false',\n",
       " 'structure-id': '8997',\n",
       " 'splash-key': 'splash10-00di-0900000000-037d24a7d65676b7e356',\n",
       " 'database-id': 'HMDB00001',\n",
       " 'references': '\\n    ',\n",
       " 'reference': '\\n      ',\n",
       " 'spectra-id': '1',\n",
       " 'spectra-type': 'MsMs',\n",
       " 'pubmed-id': '18953024',\n",
       " 'ref-text': 'Wishart DS, Knox C, Guo AC, Eisner R, Young N, Gautam B, Hau DD, Psychogios N, Dong E, Bouatra S, Mandal R, Sinelnikov I, Xia J, Jia L, Cruz JA, Lim E, Sobsey CA, Shrivastava S, Huang P, Liu P, Fang L, Peng J, Fradette R, Cheng D, Tzur D, Clements M, Lewis A, De Souza A, Zuniga A, Dawe M, Xiong Y, Clive D, Greiner R, Nazyrova A, Shaykhutdinov R, Li L, Vogel HJ, Forsythe I: HMDB: a knowledgebase for the human metabolome. Nucleic Acids Res. 2009 Jan;37(Database issue):D603-10. doi: 10.1093/nar/gkn810. Epub 2008 Oct 25.',\n",
       " 'database': 'HMDB',\n",
       " 'ms-ms-peaks': '\\n    ',\n",
       " 'ms-ms-peak': '\\n      ',\n",
       " 'ms-ms-id': '1',\n",
       " 'mass-charge': '170.52',\n",
       " 'intensity': '13.2396931601',\n",
       " 'molecule-id': None}"
      ]
     },
     "execution_count": 126,
     "metadata": {},
     "output_type": "execute_result"
    }
   ],
   "source": [
    "meta_dict"
   ]
  },
  {
   "cell_type": "code",
   "execution_count": 127,
   "metadata": {},
   "outputs": [],
   "source": [
    "meta_dict['file_name'] = meta_path"
   ]
  },
  {
   "cell_type": "markdown",
   "metadata": {},
   "source": [
    "1. Okay, so I can parse the spectra and spectra metadata.  \n",
    "2. Make two dictionaries with the unique hmdb ID's as keys for each.  3. Have a list in each and append spectra or spectra meta at the same hmdb ID as read in.\n",
    "4. Can access the pickle of all of hmdb metadata by hmdb ID.  Chemical formula can be pulled and then exact mass and exact mass+adducts can be be calculated."
   ]
  }
 ],
 "metadata": {
  "kernelspec": {
   "display_name": "Python 3",
   "language": "python",
   "name": "python3"
  },
  "language_info": {
   "codemirror_mode": {
    "name": "ipython",
    "version": 3
   },
   "file_extension": ".py",
   "mimetype": "text/x-python",
   "name": "python",
   "nbconvert_exporter": "python",
   "pygments_lexer": "ipython3",
   "version": "3.6.6"
  }
 },
 "nbformat": 4,
 "nbformat_minor": 2
}
