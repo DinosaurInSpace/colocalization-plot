{
 "cells": [
  {
   "cell_type": "code",
   "execution_count": 234,
   "metadata": {},
   "outputs": [],
   "source": [
    "import pandas\n",
    "import pandas as pd\n",
    "from pandas import DataFrame as df\n",
    "import pickle\n",
    "import matplotlib.pyplot as plt\n",
    "from sklearn.metrics import jaccard_score # Jaccard score\n",
    "from sklearn.metrics.pairwise import cosine_similarity # Cosine score\n",
    "import numpy as np\n",
    "from rdkit.Chem import AllChem as Chem\n",
    "import rdkit.Chem\n",
    "from rdkit import DataStructs\n",
    "from sklearn.ensemble import RandomForestClassifier\n",
    "from sklearn.metrics import confusion_matrix"
   ]
  },
  {
   "cell_type": "markdown",
   "metadata": {},
   "source": [
    "Purpose: The purpose of this experiment is to interpret the metaspace results from Lachlan.  These results are based upon searching 14x datasets with the filters 5x filters and their combinations that I generated for predicting nuetral losses from alcohols and carboxylic acids using RD kit.  The desired out put of this experiment would be a) identifying a filter that provides the optimal predictions for water loss, and b) discovering that using said filter improves results versus not using it."
   ]
  },
  {
   "cell_type": "markdown",
   "metadata": {},
   "source": [
    "Description from Lachlan:\n",
    "\n",
    "\"Here are annotation stats extracted from 13 HeLa cell, human and mouse datasets, with a mixture of positive & negative mode, from our MALDI. nl_stats.pickle contains one row per formula and adduct, but combining no-loss and -H2O annotations into the same row when both are present. These are the columns:\n",
    "\n",
    "• hmdb_ids - HMDB IDs associated with this formula, for matching against your data\n",
    "\n",
    "• msm,fdr,off_sample,intensity_avg - METASPACE statistics for the no-neutral-loss annotation (if detected)\n",
    "\n",
    "• msm_H2O,fdr_H2O,off_sample_H2O,intensity_avg_H2O The same statistics for the -H2O annotation (if detected)\n",
    "\n",
    "• has_matching_loss - True if both the no-loss and -H2O forms of the molecule were detected, just for making filtering easier\n",
    "\n",
    "• colocalization - colocalization score between the no-loss and -H2O ion images, using our \"median filtered cosine similarity\" algorithm. The higher the value, the better the colocalization. This is a good indicator of whether the no-loss and -H2O molecules are the same molecule\n",
    "\n",
    "• loss_intensity_ratio - ratio between the average per-pixel intensity of the -H2O annotation and the no-loss annotation. 0 if there is no -H2O annotation, infinity if there is only the -H2O annotation\n",
    "\n",
    "datasets.pickle contains information (polarity, organism, organism part) about each dataset"
   ]
  },
  {
   "cell_type": "markdown",
   "metadata": {},
   "source": [
    "This only includes annotations with an FDR up to 20%. At FDR<=50% more than half of molecules that had both no-loss and -H2O annotations didn't colocalize well (colocalization < 0.5), implying there was more noise than signal. At 20% FDR cutoff roughly 73% colocalize well, and at 10% FDR cutoff, 90% colocalize well, so if you're not getting good results, try again with the filter (nl_stats.fdr < 0.1) & (nl_stats.fdr_H2O < 0.1).\n",
    "\n",
    "Also, there is a 14th dataset included in there to be aware of - amino acid standards in gelatin (ds_id == '2019-08-16_18h44m00s'). It has a lot of good-looking annotations, so if you want to look at the results one-by-one it may be a good place to start"
   ]
  },
  {
   "cell_type": "markdown",
   "metadata": {},
   "source": [
    "Hopefully you can still get some good stats out despite many formulas mapping to multiple HMDB IDs. I've had a similar issue in the past when I've had to assign specific molecular classes to annotations, and I found that even though it looks a bit hopeless when you see how many isobaric molecules could be behind an annotation, actually the majority of annotations have extremely similar candidate molecules, often all belonging to the same molecular class.\n",
    "\n",
    "Hopefully the same will hold true for the presence of functional groups.\""
   ]
  },
  {
   "cell_type": "code",
   "execution_count": 235,
   "metadata": {},
   "outputs": [],
   "source": [
    "nl_stats_df = pd.read_pickle('nl_stats.pickle')"
   ]
  },
  {
   "cell_type": "code",
   "execution_count": 236,
   "metadata": {},
   "outputs": [],
   "source": [
    "data_sets = list(nl_stats_df['ds_id'].unique())"
   ]
  },
  {
   "cell_type": "markdown",
   "metadata": {},
   "source": [
    "How to handle multiple ID's?  Options:\n",
    "A. Treat each id as discrete and real.\n",
    "B. Only handle single ID's\n",
    "C. Handle each seperately\n",
    "D. Something else more complicated?\n",
    "\n",
    "1. First analyze rows with single identifcation\n",
    "2. Split data into positive and negative mode"
   ]
  },
  {
   "cell_type": "code",
   "execution_count": 237,
   "metadata": {},
   "outputs": [],
   "source": [
    "nl_one_id_df = nl_stats_df[nl_stats_df['hmdb_ids'].str.len() == 1]"
   ]
  },
  {
   "cell_type": "code",
   "execution_count": 238,
   "metadata": {},
   "outputs": [],
   "source": [
    "def check_polarity(adduct):\n",
    "    if adduct == '-H' or adduct == '+Cl':\n",
    "        return 'negative'\n",
    "    elif adduct == '+H' or adduct == '+Na' or adduct == '+K':\n",
    "        return 'positive'\n",
    "    else:\n",
    "        return 'unknown'"
   ]
  },
  {
   "cell_type": "code",
   "execution_count": 239,
   "metadata": {},
   "outputs": [
    {
     "data": {
      "text/plain": [
       "1      negative\n",
       "2      negative\n",
       "4      negative\n",
       "8      negative\n",
       "11     negative\n",
       "         ...   \n",
       "378    positive\n",
       "384    positive\n",
       "386    positive\n",
       "387    positive\n",
       "389    positive\n",
       "Name: adduct, Length: 2388, dtype: object"
      ]
     },
     "execution_count": 239,
     "metadata": {},
     "output_type": "execute_result"
    }
   ],
   "source": [
    "nl_one_id_df.loc[:,'adduct'].apply(lambda row: check_polarity(row))"
   ]
  },
  {
   "cell_type": "code",
   "execution_count": 240,
   "metadata": {},
   "outputs": [
    {
     "name": "stderr",
     "output_type": "stream",
     "text": [
      "/Users/dis/anaconda3/envs/lcenv/lib/python3.6/site-packages/pandas/core/indexing.py:376: SettingWithCopyWarning: \n",
      "A value is trying to be set on a copy of a slice from a DataFrame.\n",
      "Try using .loc[row_indexer,col_indexer] = value instead\n",
      "\n",
      "See the caveats in the documentation: http://pandas.pydata.org/pandas-docs/stable/user_guide/indexing.html#returning-a-view-versus-a-copy\n",
      "  self.obj[key] = _infer_fill_value(value)\n",
      "/Users/dis/anaconda3/envs/lcenv/lib/python3.6/site-packages/pandas/core/indexing.py:494: SettingWithCopyWarning: \n",
      "A value is trying to be set on a copy of a slice from a DataFrame.\n",
      "Try using .loc[row_indexer,col_indexer] = value instead\n",
      "\n",
      "See the caveats in the documentation: http://pandas.pydata.org/pandas-docs/stable/user_guide/indexing.html#returning-a-view-versus-a-copy\n",
      "  self.obj[item] = s\n"
     ]
    }
   ],
   "source": [
    "nl_one_id_df.loc[:,'polarity'] = nl_one_id_df.loc[:,'adduct'].apply(lambda row: check_polarity(row))"
   ]
  },
  {
   "cell_type": "code",
   "execution_count": 241,
   "metadata": {},
   "outputs": [],
   "source": [
    "nl_one_id_pos_df = nl_one_id_df[nl_one_id_df.polarity == 'positive'].copy(deep=True)"
   ]
  },
  {
   "cell_type": "code",
   "execution_count": 242,
   "metadata": {},
   "outputs": [
    {
     "data": {
      "text/plain": [
       "array(['+Na', '+H', '+K'], dtype=object)"
      ]
     },
     "execution_count": 242,
     "metadata": {},
     "output_type": "execute_result"
    }
   ],
   "source": [
    "nl_one_id_pos_df.adduct.unique()"
   ]
  },
  {
   "cell_type": "code",
   "execution_count": 243,
   "metadata": {},
   "outputs": [],
   "source": [
    "nl_one_id_neg_df = nl_one_id_df[nl_one_id_df.polarity == 'negative'].copy(deep=True)"
   ]
  },
  {
   "cell_type": "code",
   "execution_count": 244,
   "metadata": {},
   "outputs": [
    {
     "data": {
      "text/plain": [
       "array(['-H', '+Cl'], dtype=object)"
      ]
     },
     "execution_count": 244,
     "metadata": {},
     "output_type": "execute_result"
    }
   ],
   "source": [
    "nl_one_id_neg_df.adduct.unique()"
   ]
  },
  {
   "cell_type": "code",
   "execution_count": 245,
   "metadata": {},
   "outputs": [
    {
     "data": {
      "text/plain": [
       "1379"
      ]
     },
     "execution_count": 245,
     "metadata": {},
     "output_type": "execute_result"
    }
   ],
   "source": [
    "len(nl_one_id_pos_df)"
   ]
  },
  {
   "cell_type": "code",
   "execution_count": 246,
   "metadata": {},
   "outputs": [
    {
     "data": {
      "text/plain": [
       "1009"
      ]
     },
     "execution_count": 246,
     "metadata": {},
     "output_type": "execute_result"
    }
   ],
   "source": [
    "len(nl_one_id_neg_df)"
   ]
  },
  {
   "cell_type": "code",
   "execution_count": 247,
   "metadata": {},
   "outputs": [],
   "source": [
    "nl_one_id_pos_df = nl_one_id_pos_df.sort_values(by='hmdb_ids')"
   ]
  },
  {
   "cell_type": "code",
   "execution_count": 248,
   "metadata": {
    "scrolled": true
   },
   "outputs": [],
   "source": [
    "nl_one_id_neg_df = nl_one_id_neg_df.sort_values(by='hmdb_ids')"
   ]
  },
  {
   "cell_type": "code",
   "execution_count": 249,
   "metadata": {},
   "outputs": [
    {
     "data": {
      "text/html": [
       "<div>\n",
       "<style scoped>\n",
       "    .dataframe tbody tr th:only-of-type {\n",
       "        vertical-align: middle;\n",
       "    }\n",
       "\n",
       "    .dataframe tbody tr th {\n",
       "        vertical-align: top;\n",
       "    }\n",
       "\n",
       "    .dataframe thead th {\n",
       "        text-align: right;\n",
       "    }\n",
       "</style>\n",
       "<table border=\"1\" class=\"dataframe\">\n",
       "  <thead>\n",
       "    <tr style=\"text-align: right;\">\n",
       "      <th></th>\n",
       "      <th>formula</th>\n",
       "      <th>adduct</th>\n",
       "      <th>msm</th>\n",
       "      <th>fdr</th>\n",
       "      <th>off_sample</th>\n",
       "      <th>hmdb_ids</th>\n",
       "      <th>intensity_avg</th>\n",
       "      <th>msm_H2O</th>\n",
       "      <th>fdr_H2O</th>\n",
       "      <th>off_sample_H2O</th>\n",
       "      <th>intensity_avg_H2O</th>\n",
       "      <th>has_matching_loss</th>\n",
       "      <th>colocalization</th>\n",
       "      <th>ds_id</th>\n",
       "      <th>loss_intensity_ratio</th>\n",
       "      <th>polarity</th>\n",
       "    </tr>\n",
       "  </thead>\n",
       "  <tbody>\n",
       "    <tr>\n",
       "      <td>96</td>\n",
       "      <td>C5H5N5</td>\n",
       "      <td>-H</td>\n",
       "      <td>0.232332</td>\n",
       "      <td>0.20</td>\n",
       "      <td>False</td>\n",
       "      <td>[HMDB0000034]</td>\n",
       "      <td>571.879050</td>\n",
       "      <td>NaN</td>\n",
       "      <td>NaN</td>\n",
       "      <td>NaN</td>\n",
       "      <td>NaN</td>\n",
       "      <td>False</td>\n",
       "      <td>0.0</td>\n",
       "      <td>2018-10-29_11h02m58s</td>\n",
       "      <td>0.0</td>\n",
       "      <td>negative</td>\n",
       "    </tr>\n",
       "    <tr>\n",
       "      <td>38</td>\n",
       "      <td>C5H5N5</td>\n",
       "      <td>-H</td>\n",
       "      <td>0.123291</td>\n",
       "      <td>0.05</td>\n",
       "      <td>True</td>\n",
       "      <td>[HMDB0000034]</td>\n",
       "      <td>882.916069</td>\n",
       "      <td>NaN</td>\n",
       "      <td>NaN</td>\n",
       "      <td>NaN</td>\n",
       "      <td>NaN</td>\n",
       "      <td>False</td>\n",
       "      <td>0.0</td>\n",
       "      <td>2019-09-19_16h54m19s</td>\n",
       "      <td>0.0</td>\n",
       "      <td>negative</td>\n",
       "    </tr>\n",
       "    <tr>\n",
       "      <td>59</td>\n",
       "      <td>C5H5N5</td>\n",
       "      <td>-H</td>\n",
       "      <td>0.356987</td>\n",
       "      <td>0.20</td>\n",
       "      <td>True</td>\n",
       "      <td>[HMDB0000034]</td>\n",
       "      <td>895.155316</td>\n",
       "      <td>NaN</td>\n",
       "      <td>NaN</td>\n",
       "      <td>NaN</td>\n",
       "      <td>NaN</td>\n",
       "      <td>False</td>\n",
       "      <td>0.0</td>\n",
       "      <td>2019-06-14_15h52m24s</td>\n",
       "      <td>0.0</td>\n",
       "      <td>negative</td>\n",
       "    </tr>\n",
       "    <tr>\n",
       "      <td>27</td>\n",
       "      <td>C5H5N5</td>\n",
       "      <td>-H</td>\n",
       "      <td>0.732164</td>\n",
       "      <td>0.05</td>\n",
       "      <td>False</td>\n",
       "      <td>[HMDB0000034]</td>\n",
       "      <td>5263.777645</td>\n",
       "      <td>NaN</td>\n",
       "      <td>NaN</td>\n",
       "      <td>NaN</td>\n",
       "      <td>NaN</td>\n",
       "      <td>False</td>\n",
       "      <td>0.0</td>\n",
       "      <td>2019-09-13_11h37m35s</td>\n",
       "      <td>0.0</td>\n",
       "      <td>negative</td>\n",
       "    </tr>\n",
       "    <tr>\n",
       "      <td>286</td>\n",
       "      <td>C8H20NO6P</td>\n",
       "      <td>-H</td>\n",
       "      <td>0.085544</td>\n",
       "      <td>0.20</td>\n",
       "      <td>True</td>\n",
       "      <td>[HMDB0000086]</td>\n",
       "      <td>643.974221</td>\n",
       "      <td>NaN</td>\n",
       "      <td>NaN</td>\n",
       "      <td>NaN</td>\n",
       "      <td>NaN</td>\n",
       "      <td>False</td>\n",
       "      <td>0.0</td>\n",
       "      <td>2019-09-13_11h37m35s</td>\n",
       "      <td>0.0</td>\n",
       "      <td>negative</td>\n",
       "    </tr>\n",
       "  </tbody>\n",
       "</table>\n",
       "</div>"
      ],
      "text/plain": [
       "       formula adduct       msm   fdr off_sample       hmdb_ids  \\\n",
       "96      C5H5N5     -H  0.232332  0.20      False  [HMDB0000034]   \n",
       "38      C5H5N5     -H  0.123291  0.05       True  [HMDB0000034]   \n",
       "59      C5H5N5     -H  0.356987  0.20       True  [HMDB0000034]   \n",
       "27      C5H5N5     -H  0.732164  0.05      False  [HMDB0000034]   \n",
       "286  C8H20NO6P     -H  0.085544  0.20       True  [HMDB0000086]   \n",
       "\n",
       "     intensity_avg  msm_H2O  fdr_H2O off_sample_H2O  intensity_avg_H2O  \\\n",
       "96      571.879050      NaN      NaN            NaN                NaN   \n",
       "38      882.916069      NaN      NaN            NaN                NaN   \n",
       "59      895.155316      NaN      NaN            NaN                NaN   \n",
       "27     5263.777645      NaN      NaN            NaN                NaN   \n",
       "286     643.974221      NaN      NaN            NaN                NaN   \n",
       "\n",
       "     has_matching_loss  colocalization                 ds_id  \\\n",
       "96               False             0.0  2018-10-29_11h02m58s   \n",
       "38               False             0.0  2019-09-19_16h54m19s   \n",
       "59               False             0.0  2019-06-14_15h52m24s   \n",
       "27               False             0.0  2019-09-13_11h37m35s   \n",
       "286              False             0.0  2019-09-13_11h37m35s   \n",
       "\n",
       "     loss_intensity_ratio  polarity  \n",
       "96                    0.0  negative  \n",
       "38                    0.0  negative  \n",
       "59                    0.0  negative  \n",
       "27                    0.0  negative  \n",
       "286                   0.0  negative  "
      ]
     },
     "execution_count": 249,
     "metadata": {},
     "output_type": "execute_result"
    }
   ],
   "source": [
    "nl_one_id_neg_df.head(5)"
   ]
  },
  {
   "cell_type": "markdown",
   "metadata": {},
   "source": [
    "Issues:\n",
    "1. Single ID can be observed multiple times across sets or with multiple adducts.\n",
    "    1009 rows negative, with \n",
    "2. Should each observation be treated sepearately?\n",
    "    2.1. Is analyte behavior always the same or not?\n",
    "    2.2. Loss intensity ratio = \n",
    "        'inf' if only minus water\n",
    "        0 if only parent\n",
    "        0 < X < inf if both\n",
    "        \n",
    "Operations:\n",
    "    1. make new observation column:\n",
    "        any_loss:\n",
    "            T for 'inf' or 0 < X < inf\n",
    "            F for 0\n",
    "        loss_wparent:\n",
    "            T for 0 < X < inf\n",
    "            F for 'inf' or 0\n",
    "    "
   ]
  },
  {
   "cell_type": "code",
   "execution_count": 250,
   "metadata": {},
   "outputs": [],
   "source": [
    "nl_one_id_neg_df['id'] = nl_one_id_neg_df.hmdb_ids.map(lambda x: x[0])"
   ]
  },
  {
   "cell_type": "code",
   "execution_count": 251,
   "metadata": {},
   "outputs": [],
   "source": [
    "nl_one_id_pos_df['id'] = nl_one_id_pos_df.hmdb_ids.map(lambda x: x[0])"
   ]
  },
  {
   "cell_type": "code",
   "execution_count": 252,
   "metadata": {
    "scrolled": true
   },
   "outputs": [],
   "source": [
    "nl_neg = nl_one_id_neg_df.drop(columns=['hmdb_ids']).copy(deep=True).rename(columns={'loss_intensity_ratio':'lir'})"
   ]
  },
  {
   "cell_type": "code",
   "execution_count": 253,
   "metadata": {},
   "outputs": [],
   "source": [
    "nl_pos = nl_one_id_pos_df.drop(columns=['hmdb_ids']).copy(deep=True).rename(columns={'loss_intensity_ratio':'lir'})"
   ]
  },
  {
   "cell_type": "code",
   "execution_count": 254,
   "metadata": {},
   "outputs": [],
   "source": [
    "def any_loss(data):\n",
    "    if data > 0.000000:\n",
    "        return(True)\n",
    "    else:\n",
    "        return(False)\n",
    "    \n",
    "def loss_wparent(data):\n",
    "    if float(data) < 0.0000001:\n",
    "        return(False)\n",
    "    elif float(data) > 10000:\n",
    "        return(False)\n",
    "    else:\n",
    "        return(True)"
   ]
  },
  {
   "cell_type": "code",
   "execution_count": 255,
   "metadata": {},
   "outputs": [],
   "source": [
    "nl_neg.loc[:,'any_loss'] = nl_neg.apply(lambda x: any_loss(x['lir']), axis=1)\n",
    "nl_neg.loc[:,'loss_wparent'] = nl_neg.apply(lambda x: loss_wparent(x['lir']), axis=1)\n",
    "\n",
    "nl_pos.loc[:,'any_loss'] = nl_pos.apply(lambda x: any_loss(x['lir']), axis=1)\n",
    "nl_pos.loc[:,'loss_wparent'] = nl_pos.apply(lambda x: loss_wparent(x['lir']), axis=1)"
   ]
  },
  {
   "cell_type": "markdown",
   "metadata": {},
   "source": [
    "Metaspace df's for positive and negative are now cleaned up, and ready to go, with boolean annotations of experimental water losses in 'any_loss' and 'loss_wparent' to compare with theoretical predictions.  Index's will be be joined along 'id'."
   ]
  },
  {
   "cell_type": "code",
   "execution_count": 256,
   "metadata": {},
   "outputs": [],
   "source": [
    "hmdb_structures_CA_OH = pandas.read_pickle('hmdb_structures_CA_OH.pickle')"
   ]
  },
  {
   "cell_type": "markdown",
   "metadata": {},
   "source": [
    "Here are all the ID's that were only observed 1x in the negative or positive datasets:"
   ]
  },
  {
   "cell_type": "code",
   "execution_count": 257,
   "metadata": {},
   "outputs": [],
   "source": [
    "observed_neg_1x_id = list(nl_neg.id.unique())\n",
    "observed_pos_1x_id = list(nl_pos.id.unique())"
   ]
  },
  {
   "cell_type": "markdown",
   "metadata": {},
   "source": [
    "df.isin let's you sort a dataframe by values in a list: "
   ]
  },
  {
   "cell_type": "code",
   "execution_count": 258,
   "metadata": {},
   "outputs": [],
   "source": [
    "water_preds_neg = hmdb_structures_CA_OH[hmdb_structures_CA_OH['id'].isin(observed_neg_1x_id)]\n",
    "water_preds_pos = hmdb_structures_CA_OH[hmdb_structures_CA_OH['id'].isin(observed_pos_1x_id)]"
   ]
  },
  {
   "cell_type": "markdown",
   "metadata": {},
   "source": [
    "Okay, let's join the positive and negative dataframe and the prediction data-frame:"
   ]
  },
  {
   "cell_type": "code",
   "execution_count": 259,
   "metadata": {},
   "outputs": [],
   "source": [
    "join_neg_df = pd.merge(nl_neg, water_preds_neg, left_on=\"id\", right_on=\"id\", how=\"left\", validate=\"m:1\").copy(deep=True)"
   ]
  },
  {
   "cell_type": "code",
   "execution_count": 260,
   "metadata": {},
   "outputs": [],
   "source": [
    "join_pos_df = pd.merge(nl_pos, water_preds_pos, left_on=\"id\", right_on=\"id\", how=\"left\", validate=\"m:1\").copy(deep=True)"
   ]
  },
  {
   "cell_type": "code",
   "execution_count": 261,
   "metadata": {},
   "outputs": [],
   "source": [
    "headers = hmdb_structures_CA_OH.columns"
   ]
  },
  {
   "cell_type": "code",
   "execution_count": 262,
   "metadata": {
    "scrolled": true
   },
   "outputs": [],
   "source": [
    "heads = list(headers.drop('id'))"
   ]
  },
  {
   "cell_type": "code",
   "execution_count": 263,
   "metadata": {},
   "outputs": [
    {
     "data": {
      "text/plain": [
       "['a_CA',\n",
       " 'b_CA',\n",
       " 'c_CA',\n",
       " 'd_OH',\n",
       " 'e_OH',\n",
       " 'a_CA-b_CA',\n",
       " 'a_CA-c_CA',\n",
       " 'a_CA-d_OH',\n",
       " 'a_CA-e_OH',\n",
       " 'b_CA-c_CA',\n",
       " 'b_CA-d_OH',\n",
       " 'b_CA-e_OH',\n",
       " 'c_CA-d_OH',\n",
       " 'c_CA-e_OH',\n",
       " 'd_OH-e_OH',\n",
       " 'a_CA-b_CA-c_CA',\n",
       " 'a_CA-b_CA-d_OH',\n",
       " 'a_CA-b_CA-e_OH',\n",
       " 'a_CA-c_CA-d_OH',\n",
       " 'a_CA-c_CA-e_OH',\n",
       " 'a_CA-d_OH-e_OH',\n",
       " 'b_CA-c_CA-d_OH',\n",
       " 'b_CA-c_CA-e_OH',\n",
       " 'b_CA-d_OH-e_OH',\n",
       " 'c_CA-d_OH-e_OH',\n",
       " 'a_CA-b_CA-c_CA-d_OH',\n",
       " 'a_CA-b_CA-c_CA-e_OH',\n",
       " 'a_CA-b_CA-d_OH-e_OH',\n",
       " 'a_CA-c_CA-d_OH-e_OH',\n",
       " 'b_CA-c_CA-d_OH-e_OH',\n",
       " 'a_CA-b_CA-c_CA-d_OH-e_OH']"
      ]
     },
     "execution_count": 263,
     "metadata": {},
     "output_type": "execute_result"
    }
   ],
   "source": [
    "heads"
   ]
  },
  {
   "cell_type": "markdown",
   "metadata": {},
   "source": [
    "Let's write some functions to:\n",
    "    a) loop over columns of experimental and predictions and polarity\n",
    "    b) calculate Pierson coeffecients\n",
    "    c) calculate Jaccard similarity\n",
    "    d) calculate cosine similarity"
   ]
  },
  {
   "cell_type": "code",
   "execution_count": 264,
   "metadata": {},
   "outputs": [
    {
     "data": {
      "text/plain": [
       "\"\\nout_neg_df = pd.DataFrame(columns=['df_in_id', \\n                                   'df_out_id', \\n                                   'fdr', \\n                                   'colocal_thres'\\n                                   'compare_meth',\\n                                   'exp_targ', \\n                                   'theo_targ',\\n                                   'compare'\\n                                   ])\\nout_pos_df = out_neg_df.copy(deep=True) \\n\\ndf_ins = [join_pos_df, join_neg_df]\\ndf_ins_id = ['join_pos_df', 'join_neg_df']\\ndf_outs = [out_pos_df, out_neg_df]\\ndf_outs_id = ['out_pos_df', 'out_neg_df']\\n\\nfdr = [0.05, 0.10, 0.20]\\ncolocal_thres = 0\\ncompare_meth = ['Pierson', 'Jaccard', 'Cosine']\\n\\nexp_targs = ['any_loss', 'loss_wparent']\\ntheo_targs = heads\\n\\ndata_sets = data_sets\\n\""
      ]
     },
     "execution_count": 264,
     "metadata": {},
     "output_type": "execute_result"
    }
   ],
   "source": [
    "'''\n",
    "out_neg_df = pd.DataFrame(columns=['df_in_id', \n",
    "                                   'df_out_id', \n",
    "                                   'fdr', \n",
    "                                   'colocal_thres'\n",
    "                                   'compare_meth',\n",
    "                                   'exp_targ', \n",
    "                                   'theo_targ',\n",
    "                                   'compare'\n",
    "                                   ])\n",
    "out_pos_df = out_neg_df.copy(deep=True) \n",
    "\n",
    "df_ins = [join_pos_df, join_neg_df]\n",
    "df_ins_id = ['join_pos_df', 'join_neg_df']\n",
    "df_outs = [out_pos_df, out_neg_df]\n",
    "df_outs_id = ['out_pos_df', 'out_neg_df']\n",
    "\n",
    "fdr = [0.05, 0.10, 0.20]\n",
    "colocal_thres = 0\n",
    "compare_meth = ['Pierson', 'Jaccard', 'Cosine']\n",
    "\n",
    "exp_targs = ['any_loss', 'loss_wparent']\n",
    "theo_targs = heads\n",
    "\n",
    "data_sets = data_sets\n",
    "'''"
   ]
  },
  {
   "cell_type": "code",
   "execution_count": 265,
   "metadata": {},
   "outputs": [],
   "source": [
    "out_neg_df = pd.DataFrame(columns=['df_in_id', \n",
    "                                   'df_out_id', \n",
    "                                   'fdr', \n",
    "                                   'colocal_thres'\n",
    "                                   'compare_meth',\n",
    "                                   'exp_targ', \n",
    "                                   'theo_targ',\n",
    "                                   'compare'\n",
    "                                   ])\n",
    "out_pos_df = out_neg_df.copy(deep=True) \n",
    "\n",
    "df_ins = [join_pos_df, join_neg_df]\n",
    "df_ins_id = ['join_pos_df', 'join_neg_df']\n",
    "df_outs = [out_pos_df, out_neg_df]\n",
    "df_outs_id = ['out_pos_df', 'out_neg_df']\n",
    "\n",
    "fdr = [0.05, 0.10, 0.20]\n",
    "colocal_thres = 0\n",
    "compare_meth = ['Jaccard']\n",
    "\n",
    "exp_targs = ['any_loss', 'loss_wparent']\n",
    "theo_targs = ['c_CA-d_OH-e_OH']\n",
    "\n",
    "data_sets = data_sets"
   ]
  },
  {
   "cell_type": "code",
   "execution_count": 266,
   "metadata": {},
   "outputs": [],
   "source": [
    "# Loop to run mr_loop over various datasets"
   ]
  },
  {
   "cell_type": "code",
   "execution_count": 267,
   "metadata": {},
   "outputs": [],
   "source": [
    "def pierson_corr(df_in, exp, theo):\n",
    "    theo_series = df_in[theo].astype('bool')\n",
    "    exp_series = df_in[exp].astype('bool')  \n",
    "    result = exp_series.corr(theo_series, method='pearson')\n",
    "    return result\n",
    "\n",
    "\n",
    "def jaccard_sim(df_in, exp, theo):\n",
    "    theo_series = df_in[theo].astype('bool')\n",
    "    theo_array = theo_series.to_numpy(copy=True)\n",
    "    exp_series = df_in[exp].astype('bool')\n",
    "    exp_array = exp_series.to_numpy(copy=True)\n",
    "    result = jaccard_score(exp_array, theo_array, average='binary')\n",
    "    return result\n",
    "\n",
    "\n",
    "def cosine_sim(df_in, exp, theo):\n",
    "    theo_series = df_in[theo].astype('bool')\n",
    "    theo_array = theo_series.to_numpy(copy=True)\n",
    "    exp_series = df_in[exp].astype('bool')\n",
    "    exp_array = exp_series.to_numpy(copy=True) \n",
    "    result = cosine_similarity([theo_array], [exp_array])\n",
    "    return result"
   ]
  },
  {
   "cell_type": "code",
   "execution_count": 268,
   "metadata": {},
   "outputs": [],
   "source": [
    "def mr_loop(df_ins, df_ins_id, df_outs, df_outs_id,\n",
    "            fdr, colocal_thres, compare_meth, \n",
    "            exp_targs, theo_targs):\n",
    "\n",
    "    counter = 0\n",
    "    out_list = []\n",
    "    while counter < len(df_ins):\n",
    "        df_in = df_ins[counter]\n",
    "        df_in_id = df_ins_id[counter]\n",
    "        df_out = df_outs[counter]\n",
    "        df_out_id = df_outs_id[counter]\n",
    "        \n",
    "        df_in = df_in[df_in.colocalization >= colocal_thres]\n",
    "        \n",
    "        for f in fdr:\n",
    "            df = df_in\n",
    "            df = df[df.fdr <= f]\n",
    "            \n",
    "            for meth in compare_meth:\n",
    "\n",
    "                if 'Pierson' == meth:\n",
    "                    for exp in exp_targs:\n",
    "                        for theo in theo_targs:\n",
    "                            pc = pierson_corr(df, exp, theo)\n",
    "                            df_out = df_out.append({'df_in_id': df_in_id, \n",
    "                                           'df_out_id': df_out_id, \n",
    "                                           'fdr': f, \n",
    "                                           'colocal_thres': colocal_thres,\n",
    "                                           'compare_meth': 'Pierson',\n",
    "                                           'exp_targ': exp, \n",
    "                                           'theo_targ': theo,\n",
    "                                           'compare': pc                                    \n",
    "                                           }, ignore_index=True)\n",
    "\n",
    "                if 'Jaccard' == meth:\n",
    "                    for exp in exp_targs:\n",
    "                        for theo in theo_targs:\n",
    "                            js = jaccard_sim(df, exp, theo)\n",
    "                            df_out = df_out.append({'df_in_id': df_in_id, \n",
    "                                           'df_out_id': df_out_id, \n",
    "                                           'fdr': f, \n",
    "                                           'colocal_thres': colocal_thres,\n",
    "                                           'compare_meth': 'Jaccard',\n",
    "                                           'exp_targ': exp, \n",
    "                                           'theo_targ': theo,\n",
    "                                           'compare': js                                    \n",
    "                                           }, ignore_index=True)\n",
    "\n",
    "                if 'Cosine' == meth:\n",
    "                    for exp in exp_targs:\n",
    "                        for theo in theo_targs:\n",
    "                            cs = cosine_sim(df, exp, theo)\n",
    "                            df_out = df_out.append({'df_in_id': df_in_id, \n",
    "                                           'df_out_id': df_out_id, \n",
    "                                           'fdr': f, \n",
    "                                            'colocal_thres': colocal_thres,\n",
    "                                            'compare_meth': 'Cosine',\n",
    "                                            'exp_targ': exp, \n",
    "                                            'theo_targ': theo,\n",
    "                                            'compare': js                                    \n",
    "                                            }, ignore_index=True)\n",
    "        out_list.append(df_out)\n",
    "        counter +=1\n",
    "    \n",
    "    return(out_list)"
   ]
  },
  {
   "cell_type": "code",
   "execution_count": 269,
   "metadata": {},
   "outputs": [],
   "source": [
    "all_data = mr_loop(df_ins, df_ins_id, df_outs, df_outs_id,\n",
    "            fdr, colocal_thres, compare_meth, \n",
    "            exp_targs, theo_targs)"
   ]
  },
  {
   "cell_type": "code",
   "execution_count": 270,
   "metadata": {},
   "outputs": [],
   "source": [
    "temp_pos = join_pos_df[['id', \n",
    "                       'any_loss', \n",
    "                       'loss_wparent',\n",
    "                       'c_CA-d_OH-e_OH',\n",
    "                       'fdr',\n",
    "                       'colocalization'\n",
    "                      ]]\n",
    "\n",
    "temp_pos = temp_pos[temp_pos.colocalization >= 0.90].copy(deep=True)\n",
    "\n",
    "temp_neg = join_neg_df[['id', \n",
    "                       'any_loss', \n",
    "                       'loss_wparent',\n",
    "                       'c_CA-d_OH-e_OH',\n",
    "                       'fdr',\n",
    "                       'colocalization'\n",
    "                      ]]\n",
    "\n",
    "temp_neg = temp_neg[temp_neg.colocalization >= 0.0].copy(deep=True)"
   ]
  },
  {
   "cell_type": "code",
   "execution_count": 271,
   "metadata": {},
   "outputs": [
    {
     "data": {
      "text/plain": [
       "0.1696"
      ]
     },
     "execution_count": 271,
     "metadata": {},
     "output_type": "execute_result"
    }
   ],
   "source": [
    "jaccard_sim(temp_neg, 'loss_wparent', 'c_CA-d_OH-e_OH')"
   ]
  },
  {
   "cell_type": "code",
   "execution_count": 272,
   "metadata": {},
   "outputs": [
    {
     "data": {
      "text/plain": [
       "Index(['formula', 'adduct', 'msm', 'fdr', 'off_sample', 'intensity_avg',\n",
       "       'msm_H2O', 'fdr_H2O', 'off_sample_H2O', 'intensity_avg_H2O',\n",
       "       'has_matching_loss', 'colocalization', 'ds_id', 'lir', 'polarity', 'id',\n",
       "       'any_loss', 'loss_wparent', 'a_CA', 'b_CA', 'c_CA', 'd_OH', 'e_OH',\n",
       "       'a_CA-b_CA', 'a_CA-c_CA', 'a_CA-d_OH', 'a_CA-e_OH', 'b_CA-c_CA',\n",
       "       'b_CA-d_OH', 'b_CA-e_OH', 'c_CA-d_OH', 'c_CA-e_OH', 'd_OH-e_OH',\n",
       "       'a_CA-b_CA-c_CA', 'a_CA-b_CA-d_OH', 'a_CA-b_CA-e_OH', 'a_CA-c_CA-d_OH',\n",
       "       'a_CA-c_CA-e_OH', 'a_CA-d_OH-e_OH', 'b_CA-c_CA-d_OH', 'b_CA-c_CA-e_OH',\n",
       "       'b_CA-d_OH-e_OH', 'c_CA-d_OH-e_OH', 'a_CA-b_CA-c_CA-d_OH',\n",
       "       'a_CA-b_CA-c_CA-e_OH', 'a_CA-b_CA-d_OH-e_OH', 'a_CA-c_CA-d_OH-e_OH',\n",
       "       'b_CA-c_CA-d_OH-e_OH', 'a_CA-b_CA-c_CA-d_OH-e_OH'],\n",
       "      dtype='object')"
      ]
     },
     "execution_count": 272,
     "metadata": {},
     "output_type": "execute_result"
    }
   ],
   "source": [
    "join_pos_df.columns"
   ]
  },
  {
   "cell_type": "code",
   "execution_count": 273,
   "metadata": {},
   "outputs": [],
   "source": [
    "all_data[0].to_pickle(\"./pos_water_loss_compare_coloc_0.pkl\")\n",
    "all_data[1].to_pickle(\"./neg_water_loss_compare_coloc_0.pkl\")\n"
   ]
  },
  {
   "cell_type": "code",
   "execution_count": 274,
   "metadata": {},
   "outputs": [
    {
     "data": {
      "text/html": [
       "<div>\n",
       "<style scoped>\n",
       "    .dataframe tbody tr th:only-of-type {\n",
       "        vertical-align: middle;\n",
       "    }\n",
       "\n",
       "    .dataframe tbody tr th {\n",
       "        vertical-align: top;\n",
       "    }\n",
       "\n",
       "    .dataframe thead th {\n",
       "        text-align: right;\n",
       "    }\n",
       "</style>\n",
       "<table border=\"1\" class=\"dataframe\">\n",
       "  <thead>\n",
       "    <tr style=\"text-align: right;\">\n",
       "      <th></th>\n",
       "      <th>df_in_id</th>\n",
       "      <th>df_out_id</th>\n",
       "      <th>fdr</th>\n",
       "      <th>colocal_threscompare_meth</th>\n",
       "      <th>exp_targ</th>\n",
       "      <th>theo_targ</th>\n",
       "      <th>compare</th>\n",
       "      <th>colocal_thres</th>\n",
       "      <th>compare_meth</th>\n",
       "    </tr>\n",
       "  </thead>\n",
       "  <tbody>\n",
       "    <tr>\n",
       "      <td>0</td>\n",
       "      <td>join_pos_df</td>\n",
       "      <td>out_pos_df</td>\n",
       "      <td>0.05</td>\n",
       "      <td>NaN</td>\n",
       "      <td>any_loss</td>\n",
       "      <td>c_CA-d_OH-e_OH</td>\n",
       "      <td>0.355556</td>\n",
       "      <td>0.0</td>\n",
       "      <td>Jaccard</td>\n",
       "    </tr>\n",
       "    <tr>\n",
       "      <td>1</td>\n",
       "      <td>join_pos_df</td>\n",
       "      <td>out_pos_df</td>\n",
       "      <td>0.05</td>\n",
       "      <td>NaN</td>\n",
       "      <td>loss_wparent</td>\n",
       "      <td>c_CA-d_OH-e_OH</td>\n",
       "      <td>0.355556</td>\n",
       "      <td>0.0</td>\n",
       "      <td>Jaccard</td>\n",
       "    </tr>\n",
       "    <tr>\n",
       "      <td>2</td>\n",
       "      <td>join_pos_df</td>\n",
       "      <td>out_pos_df</td>\n",
       "      <td>0.10</td>\n",
       "      <td>NaN</td>\n",
       "      <td>any_loss</td>\n",
       "      <td>c_CA-d_OH-e_OH</td>\n",
       "      <td>0.357664</td>\n",
       "      <td>0.0</td>\n",
       "      <td>Jaccard</td>\n",
       "    </tr>\n",
       "    <tr>\n",
       "      <td>3</td>\n",
       "      <td>join_pos_df</td>\n",
       "      <td>out_pos_df</td>\n",
       "      <td>0.10</td>\n",
       "      <td>NaN</td>\n",
       "      <td>loss_wparent</td>\n",
       "      <td>c_CA-d_OH-e_OH</td>\n",
       "      <td>0.357664</td>\n",
       "      <td>0.0</td>\n",
       "      <td>Jaccard</td>\n",
       "    </tr>\n",
       "    <tr>\n",
       "      <td>4</td>\n",
       "      <td>join_pos_df</td>\n",
       "      <td>out_pos_df</td>\n",
       "      <td>0.20</td>\n",
       "      <td>NaN</td>\n",
       "      <td>any_loss</td>\n",
       "      <td>c_CA-d_OH-e_OH</td>\n",
       "      <td>0.201754</td>\n",
       "      <td>0.0</td>\n",
       "      <td>Jaccard</td>\n",
       "    </tr>\n",
       "    <tr>\n",
       "      <td>5</td>\n",
       "      <td>join_pos_df</td>\n",
       "      <td>out_pos_df</td>\n",
       "      <td>0.20</td>\n",
       "      <td>NaN</td>\n",
       "      <td>loss_wparent</td>\n",
       "      <td>c_CA-d_OH-e_OH</td>\n",
       "      <td>0.201754</td>\n",
       "      <td>0.0</td>\n",
       "      <td>Jaccard</td>\n",
       "    </tr>\n",
       "  </tbody>\n",
       "</table>\n",
       "</div>"
      ],
      "text/plain": [
       "      df_in_id   df_out_id   fdr  colocal_threscompare_meth      exp_targ  \\\n",
       "0  join_pos_df  out_pos_df  0.05                        NaN      any_loss   \n",
       "1  join_pos_df  out_pos_df  0.05                        NaN  loss_wparent   \n",
       "2  join_pos_df  out_pos_df  0.10                        NaN      any_loss   \n",
       "3  join_pos_df  out_pos_df  0.10                        NaN  loss_wparent   \n",
       "4  join_pos_df  out_pos_df  0.20                        NaN      any_loss   \n",
       "5  join_pos_df  out_pos_df  0.20                        NaN  loss_wparent   \n",
       "\n",
       "        theo_targ   compare  colocal_thres compare_meth  \n",
       "0  c_CA-d_OH-e_OH  0.355556            0.0      Jaccard  \n",
       "1  c_CA-d_OH-e_OH  0.355556            0.0      Jaccard  \n",
       "2  c_CA-d_OH-e_OH  0.357664            0.0      Jaccard  \n",
       "3  c_CA-d_OH-e_OH  0.357664            0.0      Jaccard  \n",
       "4  c_CA-d_OH-e_OH  0.201754            0.0      Jaccard  \n",
       "5  c_CA-d_OH-e_OH  0.201754            0.0      Jaccard  "
      ]
     },
     "execution_count": 274,
     "metadata": {},
     "output_type": "execute_result"
    }
   ],
   "source": [
    "all_data[0]"
   ]
  },
  {
   "cell_type": "code",
   "execution_count": 275,
   "metadata": {},
   "outputs": [],
   "source": [
    "pos_stock = all_data[0]\n",
    "neg_stock = all_data[1]"
   ]
  },
  {
   "cell_type": "code",
   "execution_count": 276,
   "metadata": {},
   "outputs": [],
   "source": [
    "def bar_plot(title, key, x_label, y1_in, y2_in, y3_in, y4_in):\n",
    "    x = list(range(len(y1_in)))\n",
    "\n",
    "    x1 = [n - 0.3 for n in x]\n",
    "    x2 = [n - 0.15 for n in x]\n",
    "    x3 = [n + 0.15 for n in x]\n",
    "    x4 = [n + 0.15 for n in x]\n",
    "\n",
    "    y1 = list(y1_in)\n",
    "    y2 = list(y2_in)\n",
    "    y3 = list(y3_in)\n",
    "    y4 = list(y4_in)\n",
    "\n",
    "    y_list_list = [y1,y2,y3,y4]\n",
    "\n",
    "    for ylist in y_list_list:\n",
    "        for yx in ylist:\n",
    "            yx = float(yx)\n",
    "    \n",
    "    ax = plt.subplot(111)\n",
    "    a1 = ax.bar(x1, y1, width=0.15, color='c', align='center' )\n",
    "    a2 = ax.bar(x2, y2, width=0.15, color='b', align='center' )\n",
    "    a3 = ax.bar(x3, y3, width=0.15, color='g', align='center' )\n",
    "    a4 = ax.bar(x4, y4, width=0.15, color='r', align='center' )\n",
    "    ax.set_ylabel('Comparison')\n",
    "    ax.set_xlabel('rdkit models for detecting CO2 and OH')\n",
    "    ax.legend((a1[0], a2[0], a3[0], a4[0]), tuple(key), loc='lower right')\n",
    "    plt.title(title)\n",
    "    plt.xticks(x, x_label)\n",
    "    plt.xticks(rotation='vertical')\n",
    "    plt.rcParams['figure.dpi'] = 400\n",
    "    plt.show"
   ]
  },
  {
   "cell_type": "code",
   "execution_count": 277,
   "metadata": {
    "scrolled": false
   },
   "outputs": [
    {
     "ename": "ValueError",
     "evalue": "shape mismatch: objects cannot be broadcast to a single shape",
     "output_type": "error",
     "traceback": [
      "\u001b[0;31m---------------------------------------------------------------------------\u001b[0m",
      "\u001b[0;31mValueError\u001b[0m                                Traceback (most recent call last)",
      "\u001b[0;32m<ipython-input-277-2a5db1572b77>\u001b[0m in \u001b[0;36m<module>\u001b[0;34m\u001b[0m\n\u001b[1;32m      9\u001b[0m \u001b[0my4_in\u001b[0m \u001b[0;34m=\u001b[0m \u001b[0;34m[\u001b[0m\u001b[0;36m0\u001b[0m\u001b[0;34m]\u001b[0m\u001b[0;34m\u001b[0m\u001b[0;34m\u001b[0m\u001b[0m\n\u001b[1;32m     10\u001b[0m \u001b[0;34m\u001b[0m\u001b[0m\n\u001b[0;32m---> 11\u001b[0;31m \u001b[0mbar_plot\u001b[0m\u001b[0;34m(\u001b[0m\u001b[0mtitle\u001b[0m\u001b[0;34m,\u001b[0m \u001b[0mkey\u001b[0m\u001b[0;34m,\u001b[0m \u001b[0mx_label\u001b[0m\u001b[0;34m,\u001b[0m \u001b[0my1_in\u001b[0m\u001b[0;34m,\u001b[0m \u001b[0my2_in\u001b[0m\u001b[0;34m,\u001b[0m \u001b[0my3_in\u001b[0m\u001b[0;34m,\u001b[0m \u001b[0my4_in\u001b[0m\u001b[0;34m)\u001b[0m\u001b[0;34m\u001b[0m\u001b[0;34m\u001b[0m\u001b[0m\n\u001b[0m",
      "\u001b[0;32m<ipython-input-276-09c7f03b47b4>\u001b[0m in \u001b[0;36mbar_plot\u001b[0;34m(title, key, x_label, y1_in, y2_in, y3_in, y4_in)\u001b[0m\n\u001b[1;32m     20\u001b[0m     \u001b[0max\u001b[0m \u001b[0;34m=\u001b[0m \u001b[0mplt\u001b[0m\u001b[0;34m.\u001b[0m\u001b[0msubplot\u001b[0m\u001b[0;34m(\u001b[0m\u001b[0;36m111\u001b[0m\u001b[0;34m)\u001b[0m\u001b[0;34m\u001b[0m\u001b[0;34m\u001b[0m\u001b[0m\n\u001b[1;32m     21\u001b[0m     \u001b[0ma1\u001b[0m \u001b[0;34m=\u001b[0m \u001b[0max\u001b[0m\u001b[0;34m.\u001b[0m\u001b[0mbar\u001b[0m\u001b[0;34m(\u001b[0m\u001b[0mx1\u001b[0m\u001b[0;34m,\u001b[0m \u001b[0my1\u001b[0m\u001b[0;34m,\u001b[0m \u001b[0mwidth\u001b[0m\u001b[0;34m=\u001b[0m\u001b[0;36m0.15\u001b[0m\u001b[0;34m,\u001b[0m \u001b[0mcolor\u001b[0m\u001b[0;34m=\u001b[0m\u001b[0;34m'c'\u001b[0m\u001b[0;34m,\u001b[0m \u001b[0malign\u001b[0m\u001b[0;34m=\u001b[0m\u001b[0;34m'center'\u001b[0m \u001b[0;34m)\u001b[0m\u001b[0;34m\u001b[0m\u001b[0;34m\u001b[0m\u001b[0m\n\u001b[0;32m---> 22\u001b[0;31m     \u001b[0ma2\u001b[0m \u001b[0;34m=\u001b[0m \u001b[0max\u001b[0m\u001b[0;34m.\u001b[0m\u001b[0mbar\u001b[0m\u001b[0;34m(\u001b[0m\u001b[0mx2\u001b[0m\u001b[0;34m,\u001b[0m \u001b[0my2\u001b[0m\u001b[0;34m,\u001b[0m \u001b[0mwidth\u001b[0m\u001b[0;34m=\u001b[0m\u001b[0;36m0.15\u001b[0m\u001b[0;34m,\u001b[0m \u001b[0mcolor\u001b[0m\u001b[0;34m=\u001b[0m\u001b[0;34m'b'\u001b[0m\u001b[0;34m,\u001b[0m \u001b[0malign\u001b[0m\u001b[0;34m=\u001b[0m\u001b[0;34m'center'\u001b[0m \u001b[0;34m)\u001b[0m\u001b[0;34m\u001b[0m\u001b[0;34m\u001b[0m\u001b[0m\n\u001b[0m\u001b[1;32m     23\u001b[0m     \u001b[0ma3\u001b[0m \u001b[0;34m=\u001b[0m \u001b[0max\u001b[0m\u001b[0;34m.\u001b[0m\u001b[0mbar\u001b[0m\u001b[0;34m(\u001b[0m\u001b[0mx3\u001b[0m\u001b[0;34m,\u001b[0m \u001b[0my3\u001b[0m\u001b[0;34m,\u001b[0m \u001b[0mwidth\u001b[0m\u001b[0;34m=\u001b[0m\u001b[0;36m0.15\u001b[0m\u001b[0;34m,\u001b[0m \u001b[0mcolor\u001b[0m\u001b[0;34m=\u001b[0m\u001b[0;34m'g'\u001b[0m\u001b[0;34m,\u001b[0m \u001b[0malign\u001b[0m\u001b[0;34m=\u001b[0m\u001b[0;34m'center'\u001b[0m \u001b[0;34m)\u001b[0m\u001b[0;34m\u001b[0m\u001b[0;34m\u001b[0m\u001b[0m\n\u001b[1;32m     24\u001b[0m     \u001b[0ma4\u001b[0m \u001b[0;34m=\u001b[0m \u001b[0max\u001b[0m\u001b[0;34m.\u001b[0m\u001b[0mbar\u001b[0m\u001b[0;34m(\u001b[0m\u001b[0mx4\u001b[0m\u001b[0;34m,\u001b[0m \u001b[0my4\u001b[0m\u001b[0;34m,\u001b[0m \u001b[0mwidth\u001b[0m\u001b[0;34m=\u001b[0m\u001b[0;36m0.15\u001b[0m\u001b[0;34m,\u001b[0m \u001b[0mcolor\u001b[0m\u001b[0;34m=\u001b[0m\u001b[0;34m'r'\u001b[0m\u001b[0;34m,\u001b[0m \u001b[0malign\u001b[0m\u001b[0;34m=\u001b[0m\u001b[0;34m'center'\u001b[0m \u001b[0;34m)\u001b[0m\u001b[0;34m\u001b[0m\u001b[0;34m\u001b[0m\u001b[0m\n",
      "\u001b[0;32m~/anaconda3/envs/lcenv/lib/python3.6/site-packages/matplotlib/__init__.py\u001b[0m in \u001b[0;36minner\u001b[0;34m(ax, data, *args, **kwargs)\u001b[0m\n\u001b[1;32m   1599\u001b[0m     \u001b[0;32mdef\u001b[0m \u001b[0minner\u001b[0m\u001b[0;34m(\u001b[0m\u001b[0max\u001b[0m\u001b[0;34m,\u001b[0m \u001b[0;34m*\u001b[0m\u001b[0margs\u001b[0m\u001b[0;34m,\u001b[0m \u001b[0mdata\u001b[0m\u001b[0;34m=\u001b[0m\u001b[0;32mNone\u001b[0m\u001b[0;34m,\u001b[0m \u001b[0;34m**\u001b[0m\u001b[0mkwargs\u001b[0m\u001b[0;34m)\u001b[0m\u001b[0;34m:\u001b[0m\u001b[0;34m\u001b[0m\u001b[0;34m\u001b[0m\u001b[0m\n\u001b[1;32m   1600\u001b[0m         \u001b[0;32mif\u001b[0m \u001b[0mdata\u001b[0m \u001b[0;32mis\u001b[0m \u001b[0;32mNone\u001b[0m\u001b[0;34m:\u001b[0m\u001b[0;34m\u001b[0m\u001b[0;34m\u001b[0m\u001b[0m\n\u001b[0;32m-> 1601\u001b[0;31m             \u001b[0;32mreturn\u001b[0m \u001b[0mfunc\u001b[0m\u001b[0;34m(\u001b[0m\u001b[0max\u001b[0m\u001b[0;34m,\u001b[0m \u001b[0;34m*\u001b[0m\u001b[0mmap\u001b[0m\u001b[0;34m(\u001b[0m\u001b[0msanitize_sequence\u001b[0m\u001b[0;34m,\u001b[0m \u001b[0margs\u001b[0m\u001b[0;34m)\u001b[0m\u001b[0;34m,\u001b[0m \u001b[0;34m**\u001b[0m\u001b[0mkwargs\u001b[0m\u001b[0;34m)\u001b[0m\u001b[0;34m\u001b[0m\u001b[0;34m\u001b[0m\u001b[0m\n\u001b[0m\u001b[1;32m   1602\u001b[0m \u001b[0;34m\u001b[0m\u001b[0m\n\u001b[1;32m   1603\u001b[0m         \u001b[0mbound\u001b[0m \u001b[0;34m=\u001b[0m \u001b[0mnew_sig\u001b[0m\u001b[0;34m.\u001b[0m\u001b[0mbind\u001b[0m\u001b[0;34m(\u001b[0m\u001b[0max\u001b[0m\u001b[0;34m,\u001b[0m \u001b[0;34m*\u001b[0m\u001b[0margs\u001b[0m\u001b[0;34m,\u001b[0m \u001b[0;34m**\u001b[0m\u001b[0mkwargs\u001b[0m\u001b[0;34m)\u001b[0m\u001b[0;34m\u001b[0m\u001b[0;34m\u001b[0m\u001b[0m\n",
      "\u001b[0;32m~/anaconda3/envs/lcenv/lib/python3.6/site-packages/matplotlib/axes/_axes.py\u001b[0m in \u001b[0;36mbar\u001b[0;34m(self, x, height, width, bottom, align, **kwargs)\u001b[0m\n\u001b[1;32m   2373\u001b[0m         x, height, width, y, linewidth = np.broadcast_arrays(\n\u001b[1;32m   2374\u001b[0m             \u001b[0;31m# Make args iterable too.\u001b[0m\u001b[0;34m\u001b[0m\u001b[0;34m\u001b[0m\u001b[0;34m\u001b[0m\u001b[0m\n\u001b[0;32m-> 2375\u001b[0;31m             np.atleast_1d(x), height, width, y, linewidth)\n\u001b[0m\u001b[1;32m   2376\u001b[0m \u001b[0;34m\u001b[0m\u001b[0m\n\u001b[1;32m   2377\u001b[0m         \u001b[0;31m# Now that units have been converted, set the tick locations.\u001b[0m\u001b[0;34m\u001b[0m\u001b[0;34m\u001b[0m\u001b[0;34m\u001b[0m\u001b[0m\n",
      "\u001b[0;32m<__array_function__ internals>\u001b[0m in \u001b[0;36mbroadcast_arrays\u001b[0;34m(*args, **kwargs)\u001b[0m\n",
      "\u001b[0;32m~/anaconda3/envs/lcenv/lib/python3.6/site-packages/numpy/lib/stride_tricks.py\u001b[0m in \u001b[0;36mbroadcast_arrays\u001b[0;34m(*args, **kwargs)\u001b[0m\n\u001b[1;32m    262\u001b[0m     \u001b[0margs\u001b[0m \u001b[0;34m=\u001b[0m \u001b[0;34m[\u001b[0m\u001b[0mnp\u001b[0m\u001b[0;34m.\u001b[0m\u001b[0marray\u001b[0m\u001b[0;34m(\u001b[0m\u001b[0m_m\u001b[0m\u001b[0;34m,\u001b[0m \u001b[0mcopy\u001b[0m\u001b[0;34m=\u001b[0m\u001b[0;32mFalse\u001b[0m\u001b[0;34m,\u001b[0m \u001b[0msubok\u001b[0m\u001b[0;34m=\u001b[0m\u001b[0msubok\u001b[0m\u001b[0;34m)\u001b[0m \u001b[0;32mfor\u001b[0m \u001b[0m_m\u001b[0m \u001b[0;32min\u001b[0m \u001b[0margs\u001b[0m\u001b[0;34m]\u001b[0m\u001b[0;34m\u001b[0m\u001b[0;34m\u001b[0m\u001b[0m\n\u001b[1;32m    263\u001b[0m \u001b[0;34m\u001b[0m\u001b[0m\n\u001b[0;32m--> 264\u001b[0;31m     \u001b[0mshape\u001b[0m \u001b[0;34m=\u001b[0m \u001b[0m_broadcast_shape\u001b[0m\u001b[0;34m(\u001b[0m\u001b[0;34m*\u001b[0m\u001b[0margs\u001b[0m\u001b[0;34m)\u001b[0m\u001b[0;34m\u001b[0m\u001b[0;34m\u001b[0m\u001b[0m\n\u001b[0m\u001b[1;32m    265\u001b[0m \u001b[0;34m\u001b[0m\u001b[0m\n\u001b[1;32m    266\u001b[0m     \u001b[0;32mif\u001b[0m \u001b[0mall\u001b[0m\u001b[0;34m(\u001b[0m\u001b[0marray\u001b[0m\u001b[0;34m.\u001b[0m\u001b[0mshape\u001b[0m \u001b[0;34m==\u001b[0m \u001b[0mshape\u001b[0m \u001b[0;32mfor\u001b[0m \u001b[0marray\u001b[0m \u001b[0;32min\u001b[0m \u001b[0margs\u001b[0m\u001b[0;34m)\u001b[0m\u001b[0;34m:\u001b[0m\u001b[0;34m\u001b[0m\u001b[0;34m\u001b[0m\u001b[0m\n",
      "\u001b[0;32m~/anaconda3/envs/lcenv/lib/python3.6/site-packages/numpy/lib/stride_tricks.py\u001b[0m in \u001b[0;36m_broadcast_shape\u001b[0;34m(*args)\u001b[0m\n\u001b[1;32m    189\u001b[0m     \u001b[0;31m# use the old-iterator because np.nditer does not handle size 0 arrays\u001b[0m\u001b[0;34m\u001b[0m\u001b[0;34m\u001b[0m\u001b[0;34m\u001b[0m\u001b[0m\n\u001b[1;32m    190\u001b[0m     \u001b[0;31m# consistently\u001b[0m\u001b[0;34m\u001b[0m\u001b[0;34m\u001b[0m\u001b[0;34m\u001b[0m\u001b[0m\n\u001b[0;32m--> 191\u001b[0;31m     \u001b[0mb\u001b[0m \u001b[0;34m=\u001b[0m \u001b[0mnp\u001b[0m\u001b[0;34m.\u001b[0m\u001b[0mbroadcast\u001b[0m\u001b[0;34m(\u001b[0m\u001b[0;34m*\u001b[0m\u001b[0margs\u001b[0m\u001b[0;34m[\u001b[0m\u001b[0;34m:\u001b[0m\u001b[0;36m32\u001b[0m\u001b[0;34m]\u001b[0m\u001b[0;34m)\u001b[0m\u001b[0;34m\u001b[0m\u001b[0;34m\u001b[0m\u001b[0m\n\u001b[0m\u001b[1;32m    192\u001b[0m     \u001b[0;31m# unfortunately, it cannot handle 32 or more arguments directly\u001b[0m\u001b[0;34m\u001b[0m\u001b[0;34m\u001b[0m\u001b[0;34m\u001b[0m\u001b[0m\n\u001b[1;32m    193\u001b[0m     \u001b[0;32mfor\u001b[0m \u001b[0mpos\u001b[0m \u001b[0;32min\u001b[0m \u001b[0mrange\u001b[0m\u001b[0;34m(\u001b[0m\u001b[0;36m32\u001b[0m\u001b[0;34m,\u001b[0m \u001b[0mlen\u001b[0m\u001b[0;34m(\u001b[0m\u001b[0margs\u001b[0m\u001b[0;34m)\u001b[0m\u001b[0;34m,\u001b[0m \u001b[0;36m31\u001b[0m\u001b[0;34m)\u001b[0m\u001b[0;34m:\u001b[0m\u001b[0;34m\u001b[0m\u001b[0;34m\u001b[0m\u001b[0m\n",
      "\u001b[0;31mValueError\u001b[0m: shape mismatch: objects cannot be broadcast to a single shape"
     ]
    },
    {
     "data": {
      "image/png": "[encoded data removed]",
      "text/plain": [
       "<Figure size 432x288 with 1 Axes>"
      ]
     },
     "metadata": {
      "needs_background": "light"
     },
     "output_type": "display_data"
    }
   ],
   "source": [
    "cur = pos_stock\n",
    "\n",
    "title = 'Correlation method comparisons positive'\n",
    "key = ['Pierson', 'Jaccard', 'Cosine', '']\n",
    "x_label = list(cur['theo_targ'])\n",
    "y1_in = list(cur.compare[cur.compare_meth == key[0]])\n",
    "y2_in = list(cur.compare[cur.compare_meth == key[1]])\n",
    "y3_in = list(cur.compare[cur.compare_meth == key[2]])\n",
    "y4_in = [0]\n",
    "\n",
    "bar_plot(title, key, x_label, y1_in, y2_in, y3_in, y4_in)"
   ]
  },
  {
   "cell_type": "code",
   "execution_count": 278,
   "metadata": {
    "scrolled": true
   },
   "outputs": [
    {
     "ename": "ValueError",
     "evalue": "shape mismatch: objects cannot be broadcast to a single shape",
     "output_type": "error",
     "traceback": [
      "\u001b[0;31m---------------------------------------------------------------------------\u001b[0m",
      "\u001b[0;31mValueError\u001b[0m                                Traceback (most recent call last)",
      "\u001b[0;32m<ipython-input-278-bcaac9cc6857>\u001b[0m in \u001b[0;36m<module>\u001b[0;34m\u001b[0m\n\u001b[1;32m      9\u001b[0m \u001b[0my4_in\u001b[0m \u001b[0;34m=\u001b[0m \u001b[0;34m[\u001b[0m\u001b[0;36m0\u001b[0m\u001b[0;34m]\u001b[0m\u001b[0;34m\u001b[0m\u001b[0;34m\u001b[0m\u001b[0m\n\u001b[1;32m     10\u001b[0m \u001b[0;34m\u001b[0m\u001b[0m\n\u001b[0;32m---> 11\u001b[0;31m \u001b[0mbar_plot\u001b[0m\u001b[0;34m(\u001b[0m\u001b[0mtitle\u001b[0m\u001b[0;34m,\u001b[0m \u001b[0mkey\u001b[0m\u001b[0;34m,\u001b[0m \u001b[0mx_label\u001b[0m\u001b[0;34m,\u001b[0m \u001b[0my1_in\u001b[0m\u001b[0;34m,\u001b[0m \u001b[0my2_in\u001b[0m\u001b[0;34m,\u001b[0m \u001b[0my3_in\u001b[0m\u001b[0;34m,\u001b[0m \u001b[0my4_in\u001b[0m\u001b[0;34m)\u001b[0m\u001b[0;34m\u001b[0m\u001b[0;34m\u001b[0m\u001b[0m\n\u001b[0m",
      "\u001b[0;32m<ipython-input-276-09c7f03b47b4>\u001b[0m in \u001b[0;36mbar_plot\u001b[0;34m(title, key, x_label, y1_in, y2_in, y3_in, y4_in)\u001b[0m\n\u001b[1;32m     20\u001b[0m     \u001b[0max\u001b[0m \u001b[0;34m=\u001b[0m \u001b[0mplt\u001b[0m\u001b[0;34m.\u001b[0m\u001b[0msubplot\u001b[0m\u001b[0;34m(\u001b[0m\u001b[0;36m111\u001b[0m\u001b[0;34m)\u001b[0m\u001b[0;34m\u001b[0m\u001b[0;34m\u001b[0m\u001b[0m\n\u001b[1;32m     21\u001b[0m     \u001b[0ma1\u001b[0m \u001b[0;34m=\u001b[0m \u001b[0max\u001b[0m\u001b[0;34m.\u001b[0m\u001b[0mbar\u001b[0m\u001b[0;34m(\u001b[0m\u001b[0mx1\u001b[0m\u001b[0;34m,\u001b[0m \u001b[0my1\u001b[0m\u001b[0;34m,\u001b[0m \u001b[0mwidth\u001b[0m\u001b[0;34m=\u001b[0m\u001b[0;36m0.15\u001b[0m\u001b[0;34m,\u001b[0m \u001b[0mcolor\u001b[0m\u001b[0;34m=\u001b[0m\u001b[0;34m'c'\u001b[0m\u001b[0;34m,\u001b[0m \u001b[0malign\u001b[0m\u001b[0;34m=\u001b[0m\u001b[0;34m'center'\u001b[0m \u001b[0;34m)\u001b[0m\u001b[0;34m\u001b[0m\u001b[0;34m\u001b[0m\u001b[0m\n\u001b[0;32m---> 22\u001b[0;31m     \u001b[0ma2\u001b[0m \u001b[0;34m=\u001b[0m \u001b[0max\u001b[0m\u001b[0;34m.\u001b[0m\u001b[0mbar\u001b[0m\u001b[0;34m(\u001b[0m\u001b[0mx2\u001b[0m\u001b[0;34m,\u001b[0m \u001b[0my2\u001b[0m\u001b[0;34m,\u001b[0m \u001b[0mwidth\u001b[0m\u001b[0;34m=\u001b[0m\u001b[0;36m0.15\u001b[0m\u001b[0;34m,\u001b[0m \u001b[0mcolor\u001b[0m\u001b[0;34m=\u001b[0m\u001b[0;34m'b'\u001b[0m\u001b[0;34m,\u001b[0m \u001b[0malign\u001b[0m\u001b[0;34m=\u001b[0m\u001b[0;34m'center'\u001b[0m \u001b[0;34m)\u001b[0m\u001b[0;34m\u001b[0m\u001b[0;34m\u001b[0m\u001b[0m\n\u001b[0m\u001b[1;32m     23\u001b[0m     \u001b[0ma3\u001b[0m \u001b[0;34m=\u001b[0m \u001b[0max\u001b[0m\u001b[0;34m.\u001b[0m\u001b[0mbar\u001b[0m\u001b[0;34m(\u001b[0m\u001b[0mx3\u001b[0m\u001b[0;34m,\u001b[0m \u001b[0my3\u001b[0m\u001b[0;34m,\u001b[0m \u001b[0mwidth\u001b[0m\u001b[0;34m=\u001b[0m\u001b[0;36m0.15\u001b[0m\u001b[0;34m,\u001b[0m \u001b[0mcolor\u001b[0m\u001b[0;34m=\u001b[0m\u001b[0;34m'g'\u001b[0m\u001b[0;34m,\u001b[0m \u001b[0malign\u001b[0m\u001b[0;34m=\u001b[0m\u001b[0;34m'center'\u001b[0m \u001b[0;34m)\u001b[0m\u001b[0;34m\u001b[0m\u001b[0;34m\u001b[0m\u001b[0m\n\u001b[1;32m     24\u001b[0m     \u001b[0ma4\u001b[0m \u001b[0;34m=\u001b[0m \u001b[0max\u001b[0m\u001b[0;34m.\u001b[0m\u001b[0mbar\u001b[0m\u001b[0;34m(\u001b[0m\u001b[0mx4\u001b[0m\u001b[0;34m,\u001b[0m \u001b[0my4\u001b[0m\u001b[0;34m,\u001b[0m \u001b[0mwidth\u001b[0m\u001b[0;34m=\u001b[0m\u001b[0;36m0.15\u001b[0m\u001b[0;34m,\u001b[0m \u001b[0mcolor\u001b[0m\u001b[0;34m=\u001b[0m\u001b[0;34m'r'\u001b[0m\u001b[0;34m,\u001b[0m \u001b[0malign\u001b[0m\u001b[0;34m=\u001b[0m\u001b[0;34m'center'\u001b[0m \u001b[0;34m)\u001b[0m\u001b[0;34m\u001b[0m\u001b[0;34m\u001b[0m\u001b[0m\n",
      "\u001b[0;32m~/anaconda3/envs/lcenv/lib/python3.6/site-packages/matplotlib/__init__.py\u001b[0m in \u001b[0;36minner\u001b[0;34m(ax, data, *args, **kwargs)\u001b[0m\n\u001b[1;32m   1599\u001b[0m     \u001b[0;32mdef\u001b[0m \u001b[0minner\u001b[0m\u001b[0;34m(\u001b[0m\u001b[0max\u001b[0m\u001b[0;34m,\u001b[0m \u001b[0;34m*\u001b[0m\u001b[0margs\u001b[0m\u001b[0;34m,\u001b[0m \u001b[0mdata\u001b[0m\u001b[0;34m=\u001b[0m\u001b[0;32mNone\u001b[0m\u001b[0;34m,\u001b[0m \u001b[0;34m**\u001b[0m\u001b[0mkwargs\u001b[0m\u001b[0;34m)\u001b[0m\u001b[0;34m:\u001b[0m\u001b[0;34m\u001b[0m\u001b[0;34m\u001b[0m\u001b[0m\n\u001b[1;32m   1600\u001b[0m         \u001b[0;32mif\u001b[0m \u001b[0mdata\u001b[0m \u001b[0;32mis\u001b[0m \u001b[0;32mNone\u001b[0m\u001b[0;34m:\u001b[0m\u001b[0;34m\u001b[0m\u001b[0;34m\u001b[0m\u001b[0m\n\u001b[0;32m-> 1601\u001b[0;31m             \u001b[0;32mreturn\u001b[0m \u001b[0mfunc\u001b[0m\u001b[0;34m(\u001b[0m\u001b[0max\u001b[0m\u001b[0;34m,\u001b[0m \u001b[0;34m*\u001b[0m\u001b[0mmap\u001b[0m\u001b[0;34m(\u001b[0m\u001b[0msanitize_sequence\u001b[0m\u001b[0;34m,\u001b[0m \u001b[0margs\u001b[0m\u001b[0;34m)\u001b[0m\u001b[0;34m,\u001b[0m \u001b[0;34m**\u001b[0m\u001b[0mkwargs\u001b[0m\u001b[0;34m)\u001b[0m\u001b[0;34m\u001b[0m\u001b[0;34m\u001b[0m\u001b[0m\n\u001b[0m\u001b[1;32m   1602\u001b[0m \u001b[0;34m\u001b[0m\u001b[0m\n\u001b[1;32m   1603\u001b[0m         \u001b[0mbound\u001b[0m \u001b[0;34m=\u001b[0m \u001b[0mnew_sig\u001b[0m\u001b[0;34m.\u001b[0m\u001b[0mbind\u001b[0m\u001b[0;34m(\u001b[0m\u001b[0max\u001b[0m\u001b[0;34m,\u001b[0m \u001b[0;34m*\u001b[0m\u001b[0margs\u001b[0m\u001b[0;34m,\u001b[0m \u001b[0;34m**\u001b[0m\u001b[0mkwargs\u001b[0m\u001b[0;34m)\u001b[0m\u001b[0;34m\u001b[0m\u001b[0;34m\u001b[0m\u001b[0m\n",
      "\u001b[0;32m~/anaconda3/envs/lcenv/lib/python3.6/site-packages/matplotlib/axes/_axes.py\u001b[0m in \u001b[0;36mbar\u001b[0;34m(self, x, height, width, bottom, align, **kwargs)\u001b[0m\n\u001b[1;32m   2373\u001b[0m         x, height, width, y, linewidth = np.broadcast_arrays(\n\u001b[1;32m   2374\u001b[0m             \u001b[0;31m# Make args iterable too.\u001b[0m\u001b[0;34m\u001b[0m\u001b[0;34m\u001b[0m\u001b[0;34m\u001b[0m\u001b[0m\n\u001b[0;32m-> 2375\u001b[0;31m             np.atleast_1d(x), height, width, y, linewidth)\n\u001b[0m\u001b[1;32m   2376\u001b[0m \u001b[0;34m\u001b[0m\u001b[0m\n\u001b[1;32m   2377\u001b[0m         \u001b[0;31m# Now that units have been converted, set the tick locations.\u001b[0m\u001b[0;34m\u001b[0m\u001b[0;34m\u001b[0m\u001b[0;34m\u001b[0m\u001b[0m\n",
      "\u001b[0;32m<__array_function__ internals>\u001b[0m in \u001b[0;36mbroadcast_arrays\u001b[0;34m(*args, **kwargs)\u001b[0m\n",
      "\u001b[0;32m~/anaconda3/envs/lcenv/lib/python3.6/site-packages/numpy/lib/stride_tricks.py\u001b[0m in \u001b[0;36mbroadcast_arrays\u001b[0;34m(*args, **kwargs)\u001b[0m\n\u001b[1;32m    262\u001b[0m     \u001b[0margs\u001b[0m \u001b[0;34m=\u001b[0m \u001b[0;34m[\u001b[0m\u001b[0mnp\u001b[0m\u001b[0;34m.\u001b[0m\u001b[0marray\u001b[0m\u001b[0;34m(\u001b[0m\u001b[0m_m\u001b[0m\u001b[0;34m,\u001b[0m \u001b[0mcopy\u001b[0m\u001b[0;34m=\u001b[0m\u001b[0;32mFalse\u001b[0m\u001b[0;34m,\u001b[0m \u001b[0msubok\u001b[0m\u001b[0;34m=\u001b[0m\u001b[0msubok\u001b[0m\u001b[0;34m)\u001b[0m \u001b[0;32mfor\u001b[0m \u001b[0m_m\u001b[0m \u001b[0;32min\u001b[0m \u001b[0margs\u001b[0m\u001b[0;34m]\u001b[0m\u001b[0;34m\u001b[0m\u001b[0;34m\u001b[0m\u001b[0m\n\u001b[1;32m    263\u001b[0m \u001b[0;34m\u001b[0m\u001b[0m\n\u001b[0;32m--> 264\u001b[0;31m     \u001b[0mshape\u001b[0m \u001b[0;34m=\u001b[0m \u001b[0m_broadcast_shape\u001b[0m\u001b[0;34m(\u001b[0m\u001b[0;34m*\u001b[0m\u001b[0margs\u001b[0m\u001b[0;34m)\u001b[0m\u001b[0;34m\u001b[0m\u001b[0;34m\u001b[0m\u001b[0m\n\u001b[0m\u001b[1;32m    265\u001b[0m \u001b[0;34m\u001b[0m\u001b[0m\n\u001b[1;32m    266\u001b[0m     \u001b[0;32mif\u001b[0m \u001b[0mall\u001b[0m\u001b[0;34m(\u001b[0m\u001b[0marray\u001b[0m\u001b[0;34m.\u001b[0m\u001b[0mshape\u001b[0m \u001b[0;34m==\u001b[0m \u001b[0mshape\u001b[0m \u001b[0;32mfor\u001b[0m \u001b[0marray\u001b[0m \u001b[0;32min\u001b[0m \u001b[0margs\u001b[0m\u001b[0;34m)\u001b[0m\u001b[0;34m:\u001b[0m\u001b[0;34m\u001b[0m\u001b[0;34m\u001b[0m\u001b[0m\n",
      "\u001b[0;32m~/anaconda3/envs/lcenv/lib/python3.6/site-packages/numpy/lib/stride_tricks.py\u001b[0m in \u001b[0;36m_broadcast_shape\u001b[0;34m(*args)\u001b[0m\n\u001b[1;32m    189\u001b[0m     \u001b[0;31m# use the old-iterator because np.nditer does not handle size 0 arrays\u001b[0m\u001b[0;34m\u001b[0m\u001b[0;34m\u001b[0m\u001b[0;34m\u001b[0m\u001b[0m\n\u001b[1;32m    190\u001b[0m     \u001b[0;31m# consistently\u001b[0m\u001b[0;34m\u001b[0m\u001b[0;34m\u001b[0m\u001b[0;34m\u001b[0m\u001b[0m\n\u001b[0;32m--> 191\u001b[0;31m     \u001b[0mb\u001b[0m \u001b[0;34m=\u001b[0m \u001b[0mnp\u001b[0m\u001b[0;34m.\u001b[0m\u001b[0mbroadcast\u001b[0m\u001b[0;34m(\u001b[0m\u001b[0;34m*\u001b[0m\u001b[0margs\u001b[0m\u001b[0;34m[\u001b[0m\u001b[0;34m:\u001b[0m\u001b[0;36m32\u001b[0m\u001b[0;34m]\u001b[0m\u001b[0;34m)\u001b[0m\u001b[0;34m\u001b[0m\u001b[0;34m\u001b[0m\u001b[0m\n\u001b[0m\u001b[1;32m    192\u001b[0m     \u001b[0;31m# unfortunately, it cannot handle 32 or more arguments directly\u001b[0m\u001b[0;34m\u001b[0m\u001b[0;34m\u001b[0m\u001b[0;34m\u001b[0m\u001b[0m\n\u001b[1;32m    193\u001b[0m     \u001b[0;32mfor\u001b[0m \u001b[0mpos\u001b[0m \u001b[0;32min\u001b[0m \u001b[0mrange\u001b[0m\u001b[0;34m(\u001b[0m\u001b[0;36m32\u001b[0m\u001b[0;34m,\u001b[0m \u001b[0mlen\u001b[0m\u001b[0;34m(\u001b[0m\u001b[0margs\u001b[0m\u001b[0;34m)\u001b[0m\u001b[0;34m,\u001b[0m \u001b[0;36m31\u001b[0m\u001b[0;34m)\u001b[0m\u001b[0;34m:\u001b[0m\u001b[0;34m\u001b[0m\u001b[0;34m\u001b[0m\u001b[0m\n",
      "\u001b[0;31mValueError\u001b[0m: shape mismatch: objects cannot be broadcast to a single shape"
     ]
    },
    {
     "data": {
      "image/png": "[encoded data removed]",
      "text/plain": [
       "<Figure size 432x288 with 1 Axes>"
      ]
     },
     "metadata": {
      "needs_background": "light"
     },
     "output_type": "display_data"
    }
   ],
   "source": [
    "cur = neg_stock\n",
    "\n",
    "title = 'Correlation method comparisons negative'\n",
    "key = ['Pierson', 'Jaccard', 'Cosine', '']\n",
    "x_label = list(cur['theo_targ'])\n",
    "y1_in = list(cur.compare[cur.compare_meth == key[0]])\n",
    "y2_in = list(cur.compare[cur.compare_meth == key[1]])\n",
    "y3_in = list(cur.compare[cur.compare_meth == key[2]])\n",
    "y4_in = [0]\n",
    "\n",
    "bar_plot(title, key, x_label, y1_in, y2_in, y3_in, y4_in)"
   ]
  },
  {
   "cell_type": "code",
   "execution_count": 279,
   "metadata": {},
   "outputs": [],
   "source": [
    "df_ins = [join_pos_df, join_neg_df]\n",
    "df_ins_id = ['join_pos_df', 'join_neg_df']\n",
    "df_outs = [out_pos_df, out_neg_df]\n",
    "df_outs_id = ['out_pos_df', 'out_neg_df']\n",
    "\n",
    "fdr = [0.20]\n",
    "colocal_thres = 0\n",
    "compare_meth = ['Jaccard']\n",
    "\n",
    "exp_targs = ['any_loss', 'loss_wparent']\n",
    "theo_targs = heads\n",
    "\n",
    "data_sets = data_sets"
   ]
  },
  {
   "cell_type": "code",
   "execution_count": 280,
   "metadata": {},
   "outputs": [],
   "source": [
    "all_data = mr_loop(df_ins, df_ins_id, df_outs, df_outs_id,\n",
    "            fdr, colocal_thres, compare_meth, \n",
    "            exp_targs, theo_targs)"
   ]
  },
  {
   "cell_type": "code",
   "execution_count": 281,
   "metadata": {},
   "outputs": [],
   "source": [
    "pos = all_data[0]\n",
    "neg = all_data[1]"
   ]
  },
  {
   "cell_type": "code",
   "execution_count": 282,
   "metadata": {},
   "outputs": [
    {
     "data": {
      "text/html": [
       "<div>\n",
       "<style scoped>\n",
       "    .dataframe tbody tr th:only-of-type {\n",
       "        vertical-align: middle;\n",
       "    }\n",
       "\n",
       "    .dataframe tbody tr th {\n",
       "        vertical-align: top;\n",
       "    }\n",
       "\n",
       "    .dataframe thead th {\n",
       "        text-align: right;\n",
       "    }\n",
       "</style>\n",
       "<table border=\"1\" class=\"dataframe\">\n",
       "  <thead>\n",
       "    <tr style=\"text-align: right;\">\n",
       "      <th></th>\n",
       "      <th>df_in_id</th>\n",
       "      <th>df_out_id</th>\n",
       "      <th>fdr</th>\n",
       "      <th>colocal_threscompare_meth</th>\n",
       "      <th>exp_targ</th>\n",
       "      <th>theo_targ</th>\n",
       "      <th>compare</th>\n",
       "      <th>colocal_thres</th>\n",
       "      <th>compare_meth</th>\n",
       "    </tr>\n",
       "  </thead>\n",
       "  <tbody>\n",
       "    <tr>\n",
       "      <td>0</td>\n",
       "      <td>join_pos_df</td>\n",
       "      <td>out_pos_df</td>\n",
       "      <td>0.2</td>\n",
       "      <td>NaN</td>\n",
       "      <td>any_loss</td>\n",
       "      <td>a_CA</td>\n",
       "      <td>0.135593</td>\n",
       "      <td>0.0</td>\n",
       "      <td>Jaccard</td>\n",
       "    </tr>\n",
       "    <tr>\n",
       "      <td>1</td>\n",
       "      <td>join_pos_df</td>\n",
       "      <td>out_pos_df</td>\n",
       "      <td>0.2</td>\n",
       "      <td>NaN</td>\n",
       "      <td>any_loss</td>\n",
       "      <td>b_CA</td>\n",
       "      <td>0.020000</td>\n",
       "      <td>0.0</td>\n",
       "      <td>Jaccard</td>\n",
       "    </tr>\n",
       "    <tr>\n",
       "      <td>2</td>\n",
       "      <td>join_pos_df</td>\n",
       "      <td>out_pos_df</td>\n",
       "      <td>0.2</td>\n",
       "      <td>NaN</td>\n",
       "      <td>any_loss</td>\n",
       "      <td>c_CA</td>\n",
       "      <td>0.136778</td>\n",
       "      <td>0.0</td>\n",
       "      <td>Jaccard</td>\n",
       "    </tr>\n",
       "    <tr>\n",
       "      <td>3</td>\n",
       "      <td>join_pos_df</td>\n",
       "      <td>out_pos_df</td>\n",
       "      <td>0.2</td>\n",
       "      <td>NaN</td>\n",
       "      <td>any_loss</td>\n",
       "      <td>d_OH</td>\n",
       "      <td>0.105634</td>\n",
       "      <td>0.0</td>\n",
       "      <td>Jaccard</td>\n",
       "    </tr>\n",
       "    <tr>\n",
       "      <td>4</td>\n",
       "      <td>join_pos_df</td>\n",
       "      <td>out_pos_df</td>\n",
       "      <td>0.2</td>\n",
       "      <td>NaN</td>\n",
       "      <td>any_loss</td>\n",
       "      <td>e_OH</td>\n",
       "      <td>0.131673</td>\n",
       "      <td>0.0</td>\n",
       "      <td>Jaccard</td>\n",
       "    </tr>\n",
       "  </tbody>\n",
       "</table>\n",
       "</div>"
      ],
      "text/plain": [
       "      df_in_id   df_out_id  fdr  colocal_threscompare_meth  exp_targ  \\\n",
       "0  join_pos_df  out_pos_df  0.2                        NaN  any_loss   \n",
       "1  join_pos_df  out_pos_df  0.2                        NaN  any_loss   \n",
       "2  join_pos_df  out_pos_df  0.2                        NaN  any_loss   \n",
       "3  join_pos_df  out_pos_df  0.2                        NaN  any_loss   \n",
       "4  join_pos_df  out_pos_df  0.2                        NaN  any_loss   \n",
       "\n",
       "  theo_targ   compare  colocal_thres compare_meth  \n",
       "0      a_CA  0.135593            0.0      Jaccard  \n",
       "1      b_CA  0.020000            0.0      Jaccard  \n",
       "2      c_CA  0.136778            0.0      Jaccard  \n",
       "3      d_OH  0.105634            0.0      Jaccard  \n",
       "4      e_OH  0.131673            0.0      Jaccard  "
      ]
     },
     "execution_count": 282,
     "metadata": {},
     "output_type": "execute_result"
    }
   ],
   "source": [
    "pos.head(5)"
   ]
  },
  {
   "cell_type": "code",
   "execution_count": 283,
   "metadata": {},
   "outputs": [
    {
     "data": {
      "text/plain": [
       "<function matplotlib.pyplot.show(*args, **kw)>"
      ]
     },
     "execution_count": 283,
     "metadata": {},
     "output_type": "execute_result"
    },
    {
     "data": {
      "image/png": "[encoded data removed]",
      "text/plain": [
       "<Figure size 432x288 with 1 Axes>"
      ]
     },
     "metadata": {
      "needs_background": "light"
     },
     "output_type": "display_data"
    }
   ],
   "source": [
    "pos_temp = all_data[0]\n",
    "pos = pos_temp[pos_temp.exp_targ == 'loss_wparent']\n",
    "x1 = list(range(len(pos.compare)))\n",
    "y1 = list(pos.compare)\n",
    "x_label = list(pos.theo_targ)\n",
    "title = 'Positive Jaccard score at 0.2 FDR for loss w/parent'\n",
    "\n",
    "for ys in y1:\n",
    "    ys = float(ys)\n",
    "    \n",
    "ax = plt.subplot(111)\n",
    "a1 = ax.bar(x1, y1, width=0.15, color='c', align='center' )\n",
    "ax.set_ylabel('Jaccard score')\n",
    "ax.set_xlabel('rdkit models for detecting CO2 and OH')\n",
    "plt.title(title)\n",
    "plt.xticks(x1, x_label)\n",
    "plt.xticks(rotation='vertical')\n",
    "plt.rcParams['figure.dpi'] = 400\n",
    "plt.show"
   ]
  },
  {
   "cell_type": "code",
   "execution_count": 284,
   "metadata": {},
   "outputs": [
    {
     "data": {
      "text/plain": [
       "<function matplotlib.pyplot.show(*args, **kw)>"
      ]
     },
     "execution_count": 284,
     "metadata": {},
     "output_type": "execute_result"
    },
    {
     "data": {
      "image/png": "[encoded data removed]",
      "text/plain": [
       "<Figure size 2400x1600 with 1 Axes>"
      ]
     },
     "metadata": {
      "needs_background": "light"
     },
     "output_type": "display_data"
    }
   ],
   "source": [
    "neg_temp = all_data[1]\n",
    "neg = neg_temp[neg_temp.exp_targ == 'loss_wparent']\n",
    "x1 = list(range(len(neg.compare)))\n",
    "y1 = list(neg.compare)\n",
    "x_label = list(neg.theo_targ)\n",
    "title = 'Negative Jaccard score at 0.2 FDR for loss w/parent'\n",
    "\n",
    "for ys in y1:\n",
    "    ys = float(ys)\n",
    "    \n",
    "ax = plt.subplot(111)\n",
    "a1 = ax.bar(x1, y1, width=0.15, color='c', align='center' )\n",
    "ax.set_ylabel('Jaccard score')\n",
    "ax.set_xlabel('rdkit models for detecting CO2 and OH')\n",
    "plt.title(title)\n",
    "plt.xticks(x1, x_label)\n",
    "plt.xticks(rotation='vertical')\n",
    "plt.rcParams['figure.dpi'] = 400\n",
    "plt.show"
   ]
  },
  {
   "cell_type": "code",
   "execution_count": null,
   "metadata": {},
   "outputs": [],
   "source": []
  },
  {
   "cell_type": "code",
   "execution_count": 285,
   "metadata": {},
   "outputs": [
    {
     "data": {
      "text/html": [
       "<div>\n",
       "<style scoped>\n",
       "    .dataframe tbody tr th:only-of-type {\n",
       "        vertical-align: middle;\n",
       "    }\n",
       "\n",
       "    .dataframe tbody tr th {\n",
       "        vertical-align: top;\n",
       "    }\n",
       "\n",
       "    .dataframe thead th {\n",
       "        text-align: right;\n",
       "    }\n",
       "</style>\n",
       "<table border=\"1\" class=\"dataframe\">\n",
       "  <thead>\n",
       "    <tr style=\"text-align: right;\">\n",
       "      <th></th>\n",
       "      <th>formula</th>\n",
       "      <th>adduct</th>\n",
       "      <th>msm</th>\n",
       "      <th>fdr</th>\n",
       "      <th>off_sample</th>\n",
       "      <th>intensity_avg</th>\n",
       "      <th>msm_H2O</th>\n",
       "      <th>fdr_H2O</th>\n",
       "      <th>off_sample_H2O</th>\n",
       "      <th>intensity_avg_H2O</th>\n",
       "      <th>...</th>\n",
       "      <th>b_CA-c_CA-d_OH</th>\n",
       "      <th>b_CA-c_CA-e_OH</th>\n",
       "      <th>b_CA-d_OH-e_OH</th>\n",
       "      <th>c_CA-d_OH-e_OH</th>\n",
       "      <th>a_CA-b_CA-c_CA-d_OH</th>\n",
       "      <th>a_CA-b_CA-c_CA-e_OH</th>\n",
       "      <th>a_CA-b_CA-d_OH-e_OH</th>\n",
       "      <th>a_CA-c_CA-d_OH-e_OH</th>\n",
       "      <th>b_CA-c_CA-d_OH-e_OH</th>\n",
       "      <th>a_CA-b_CA-c_CA-d_OH-e_OH</th>\n",
       "    </tr>\n",
       "  </thead>\n",
       "  <tbody>\n",
       "    <tr>\n",
       "      <td>0</td>\n",
       "      <td>C10H16N2O3S</td>\n",
       "      <td>+H</td>\n",
       "      <td>0.322826</td>\n",
       "      <td>0.1</td>\n",
       "      <td>False</td>\n",
       "      <td>382.374341</td>\n",
       "      <td>0.36026</td>\n",
       "      <td>0.05</td>\n",
       "      <td>True</td>\n",
       "      <td>363.942389</td>\n",
       "      <td>...</td>\n",
       "      <td>True</td>\n",
       "      <td>True</td>\n",
       "      <td>False</td>\n",
       "      <td>True</td>\n",
       "      <td>True</td>\n",
       "      <td>True</td>\n",
       "      <td>True</td>\n",
       "      <td>True</td>\n",
       "      <td>True</td>\n",
       "      <td>True</td>\n",
       "    </tr>\n",
       "    <tr>\n",
       "      <td>1</td>\n",
       "      <td>C5H5N5</td>\n",
       "      <td>+Na</td>\n",
       "      <td>0.102210</td>\n",
       "      <td>0.2</td>\n",
       "      <td>False</td>\n",
       "      <td>77.664428</td>\n",
       "      <td>NaN</td>\n",
       "      <td>NaN</td>\n",
       "      <td>NaN</td>\n",
       "      <td>NaN</td>\n",
       "      <td>...</td>\n",
       "      <td>False</td>\n",
       "      <td>False</td>\n",
       "      <td>False</td>\n",
       "      <td>False</td>\n",
       "      <td>False</td>\n",
       "      <td>False</td>\n",
       "      <td>False</td>\n",
       "      <td>False</td>\n",
       "      <td>False</td>\n",
       "      <td>False</td>\n",
       "    </tr>\n",
       "    <tr>\n",
       "      <td>2</td>\n",
       "      <td>C5H5N5</td>\n",
       "      <td>+H</td>\n",
       "      <td>0.007267</td>\n",
       "      <td>0.2</td>\n",
       "      <td>True</td>\n",
       "      <td>354.010150</td>\n",
       "      <td>NaN</td>\n",
       "      <td>NaN</td>\n",
       "      <td>NaN</td>\n",
       "      <td>NaN</td>\n",
       "      <td>...</td>\n",
       "      <td>False</td>\n",
       "      <td>False</td>\n",
       "      <td>False</td>\n",
       "      <td>False</td>\n",
       "      <td>False</td>\n",
       "      <td>False</td>\n",
       "      <td>False</td>\n",
       "      <td>False</td>\n",
       "      <td>False</td>\n",
       "      <td>False</td>\n",
       "    </tr>\n",
       "    <tr>\n",
       "      <td>3</td>\n",
       "      <td>C8H20NO6P</td>\n",
       "      <td>+Na</td>\n",
       "      <td>0.143235</td>\n",
       "      <td>0.2</td>\n",
       "      <td>False</td>\n",
       "      <td>212.459347</td>\n",
       "      <td>NaN</td>\n",
       "      <td>NaN</td>\n",
       "      <td>NaN</td>\n",
       "      <td>NaN</td>\n",
       "      <td>...</td>\n",
       "      <td>True</td>\n",
       "      <td>False</td>\n",
       "      <td>True</td>\n",
       "      <td>True</td>\n",
       "      <td>True</td>\n",
       "      <td>False</td>\n",
       "      <td>True</td>\n",
       "      <td>True</td>\n",
       "      <td>True</td>\n",
       "      <td>True</td>\n",
       "    </tr>\n",
       "    <tr>\n",
       "      <td>4</td>\n",
       "      <td>C8H20NO6P</td>\n",
       "      <td>+H</td>\n",
       "      <td>0.471918</td>\n",
       "      <td>0.2</td>\n",
       "      <td>False</td>\n",
       "      <td>621.190598</td>\n",
       "      <td>NaN</td>\n",
       "      <td>NaN</td>\n",
       "      <td>NaN</td>\n",
       "      <td>NaN</td>\n",
       "      <td>...</td>\n",
       "      <td>True</td>\n",
       "      <td>False</td>\n",
       "      <td>True</td>\n",
       "      <td>True</td>\n",
       "      <td>True</td>\n",
       "      <td>False</td>\n",
       "      <td>True</td>\n",
       "      <td>True</td>\n",
       "      <td>True</td>\n",
       "      <td>True</td>\n",
       "    </tr>\n",
       "  </tbody>\n",
       "</table>\n",
       "<p>5 rows × 49 columns</p>\n",
       "</div>"
      ],
      "text/plain": [
       "       formula adduct       msm  fdr off_sample  intensity_avg  msm_H2O  \\\n",
       "0  C10H16N2O3S     +H  0.322826  0.1      False     382.374341  0.36026   \n",
       "1       C5H5N5    +Na  0.102210  0.2      False      77.664428      NaN   \n",
       "2       C5H5N5     +H  0.007267  0.2       True     354.010150      NaN   \n",
       "3    C8H20NO6P    +Na  0.143235  0.2      False     212.459347      NaN   \n",
       "4    C8H20NO6P     +H  0.471918  0.2      False     621.190598      NaN   \n",
       "\n",
       "   fdr_H2O off_sample_H2O  intensity_avg_H2O  ...  b_CA-c_CA-d_OH  \\\n",
       "0     0.05           True         363.942389  ...            True   \n",
       "1      NaN            NaN                NaN  ...           False   \n",
       "2      NaN            NaN                NaN  ...           False   \n",
       "3      NaN            NaN                NaN  ...            True   \n",
       "4      NaN            NaN                NaN  ...            True   \n",
       "\n",
       "   b_CA-c_CA-e_OH b_CA-d_OH-e_OH  c_CA-d_OH-e_OH a_CA-b_CA-c_CA-d_OH  \\\n",
       "0            True          False            True                True   \n",
       "1           False          False           False               False   \n",
       "2           False          False           False               False   \n",
       "3           False           True            True                True   \n",
       "4           False           True            True                True   \n",
       "\n",
       "  a_CA-b_CA-c_CA-e_OH  a_CA-b_CA-d_OH-e_OH  a_CA-c_CA-d_OH-e_OH  \\\n",
       "0                True                 True                 True   \n",
       "1               False                False                False   \n",
       "2               False                False                False   \n",
       "3               False                 True                 True   \n",
       "4               False                 True                 True   \n",
       "\n",
       "  b_CA-c_CA-d_OH-e_OH a_CA-b_CA-c_CA-d_OH-e_OH  \n",
       "0                True                     True  \n",
       "1               False                    False  \n",
       "2               False                    False  \n",
       "3                True                     True  \n",
       "4                True                     True  \n",
       "\n",
       "[5 rows x 49 columns]"
      ]
     },
     "execution_count": 285,
     "metadata": {},
     "output_type": "execute_result"
    }
   ],
   "source": [
    "join_pos_df.head(5)"
   ]
  },
  {
   "cell_type": "code",
   "execution_count": 286,
   "metadata": {},
   "outputs": [
    {
     "data": {
      "text/plain": [
       "Index(['formula', 'adduct', 'msm', 'fdr', 'off_sample', 'intensity_avg',\n",
       "       'msm_H2O', 'fdr_H2O', 'off_sample_H2O', 'intensity_avg_H2O',\n",
       "       'has_matching_loss', 'colocalization', 'ds_id', 'lir', 'polarity', 'id',\n",
       "       'any_loss', 'loss_wparent', 'a_CA', 'b_CA', 'c_CA', 'd_OH', 'e_OH',\n",
       "       'a_CA-b_CA', 'a_CA-c_CA', 'a_CA-d_OH', 'a_CA-e_OH', 'b_CA-c_CA',\n",
       "       'b_CA-d_OH', 'b_CA-e_OH', 'c_CA-d_OH', 'c_CA-e_OH', 'd_OH-e_OH',\n",
       "       'a_CA-b_CA-c_CA', 'a_CA-b_CA-d_OH', 'a_CA-b_CA-e_OH', 'a_CA-c_CA-d_OH',\n",
       "       'a_CA-c_CA-e_OH', 'a_CA-d_OH-e_OH', 'b_CA-c_CA-d_OH', 'b_CA-c_CA-e_OH',\n",
       "       'b_CA-d_OH-e_OH', 'c_CA-d_OH-e_OH', 'a_CA-b_CA-c_CA-d_OH',\n",
       "       'a_CA-b_CA-c_CA-e_OH', 'a_CA-b_CA-d_OH-e_OH', 'a_CA-c_CA-d_OH-e_OH',\n",
       "       'b_CA-c_CA-d_OH-e_OH', 'a_CA-b_CA-c_CA-d_OH-e_OH'],\n",
       "      dtype='object')"
      ]
     },
     "execution_count": 286,
     "metadata": {},
     "output_type": "execute_result"
    }
   ],
   "source": [
    "join_pos_df.columns"
   ]
  },
  {
   "cell_type": "markdown",
   "metadata": {},
   "source": [
    "Let's calculate TP, FP, TN, and FN!\n",
    "\n",
    "https://kawahara.ca/how-to-compute-truefalse-positives-and-truefalse-negatives-in-python-for-binary-classification-problems/"
   ]
  },
  {
   "cell_type": "code",
   "execution_count": 287,
   "metadata": {},
   "outputs": [],
   "source": [
    "obs_any_pos = np.asarray(join_pos_df.any_loss)\n",
    "obs_wp_pos = np.asarray(join_pos_df.loss_wparent)\n",
    "\n",
    "theo_pos = np.asarray(join_pos_df['c_CA-d_OH-e_OH'])\n",
    "\n",
    "obs_any_neg = np.asarray(join_neg_df.any_loss)\n",
    "obs_wp_neg = np.asarray(join_neg_df.loss_wparent)\n",
    "\n",
    "theo_neg = np.asarray(join_neg_df['c_CA-d_OH-e_OH'])"
   ]
  },
  {
   "cell_type": "code",
   "execution_count": 288,
   "metadata": {},
   "outputs": [],
   "source": [
    "def tp_tn_fp_fn(obs, theo):\n",
    "    # obs = true, theo = pred\n",
    "    out = {}\n",
    "     \n",
    "    out['tp'] = np.sum(np.logical_and(theo == 1, obs == 1))\n",
    "    out['tn'] = np.sum(np.logical_and(theo == 0, obs == 0))\n",
    "    out['fp'] = np.sum(np.logical_and(theo == 1, obs == 0))\n",
    "    out['fn'] = np.sum(np.logical_and(theo == 0, obs == 1))\n",
    "    \n",
    "    out['sens'] = out['tp'] / (out['tp'] + out['fn'])\n",
    "    out['spec'] = out['tn'] / (out['tn'] + out['fp'])\n",
    "    out['ppv'] = out['tp'] / (out['tp'] + out['fp'])\n",
    "    out['npv'] = out['tn'] / (out['tn'] + out['fn'])\n",
    "    \n",
    "    \n",
    "    return out\n",
    "    "
   ]
  },
  {
   "cell_type": "code",
   "execution_count": 289,
   "metadata": {},
   "outputs": [],
   "source": [
    "any_pos = tp_tn_fp_fn(obs_any_pos, theo_pos)\n",
    "any_neg = tp_tn_fp_fn(obs_any_neg, theo_neg)\n",
    "\n",
    "wp_pos = tp_tn_fp_fn(obs_wp_pos, theo_pos)\n",
    "wp_neg = tp_tn_fp_fn(obs_wp_neg, theo_neg)"
   ]
  },
  {
   "cell_type": "code",
   "execution_count": 290,
   "metadata": {},
   "outputs": [
    {
     "data": {
      "text/plain": [
       "{'tp': 104,\n",
       " 'tn': 384,\n",
       " 'fp': 466,\n",
       " 'fn': 46,\n",
       " 'sens': 0.6933333333333334,\n",
       " 'spec': 0.45176470588235296,\n",
       " 'ppv': 0.1824561403508772,\n",
       " 'npv': 0.8930232558139535}"
      ]
     },
     "execution_count": 290,
     "metadata": {},
     "output_type": "execute_result"
    }
   ],
   "source": [
    "wp_neg"
   ]
  },
  {
   "cell_type": "code",
   "execution_count": null,
   "metadata": {},
   "outputs": [],
   "source": []
  },
  {
   "cell_type": "code",
   "execution_count": 291,
   "metadata": {},
   "outputs": [],
   "source": [
    "ds_jd ={}\n",
    "target_df = join_pos_df\n",
    "\n",
    "for dataset in list(target_df.ds_id.unique()):\n",
    "    df_in = target_df[target_df.ds_id == dataset]\n",
    "    exp = 'any_loss'\n",
    "    theo = 'c_CA-d_OH-e_OH'\n",
    "\n",
    "    js = jaccard_sim(df_in, exp, theo)\n",
    "    ds_jd[dataset] = js"
   ]
  },
  {
   "cell_type": "code",
   "execution_count": 292,
   "metadata": {},
   "outputs": [
    {
     "data": {
      "text/plain": [
       "{'2019-08-16_18h44m00s': 0.5070754716981132,\n",
       " '2019-05-17_18h15m11s': 0.3838383838383838,\n",
       " '2018-09-14_10h10m06s': 0.5454545454545454,\n",
       " '2017-11-21_10h44m45s': 0.2698412698412698,\n",
       " '2019-08-28_16h39m41s': 0.24210526315789474,\n",
       " '2019-04-30_09h50m09s': 0.13114754098360656}"
      ]
     },
     "execution_count": 292,
     "metadata": {},
     "output_type": "execute_result"
    }
   ],
   "source": [
    "ds_jd"
   ]
  },
  {
   "cell_type": "code",
   "execution_count": 293,
   "metadata": {},
   "outputs": [],
   "source": [
    "pos_df = join_pos_df[join_pos_df.ds_id == '2019-08-16_18h44m00s']\n",
    "neg_df = join_neg_df[join_neg_df.ds_id == '2019-07-26_11h26m33s']\n",
    "\n",
    "obs_any_pos = np.asarray(pos_df.any_loss)\n",
    "obs_wp_pos = np.asarray(pos_df.loss_wparent)\n",
    "\n",
    "theo_pos = np.asarray(pos_df['c_CA-d_OH-e_OH'])\n",
    "\n",
    "obs_any_neg = np.asarray(neg_df.any_loss)\n",
    "obs_wp_neg = np.asarray(neg_df.loss_wparent)\n",
    "\n",
    "theo_neg = np.asarray(neg_df['c_CA-d_OH-e_OH'])"
   ]
  },
  {
   "cell_type": "code",
   "execution_count": 294,
   "metadata": {},
   "outputs": [],
   "source": [
    "any_pos = tp_tn_fp_fn(obs_any_pos, theo_pos)\n",
    "any_neg = tp_tn_fp_fn(obs_any_neg, theo_neg)\n",
    "\n",
    "wp_pos = tp_tn_fp_fn(obs_wp_pos, theo_pos)\n",
    "wp_neg = tp_tn_fp_fn(obs_wp_neg, theo_neg)"
   ]
  },
  {
   "cell_type": "code",
   "execution_count": 295,
   "metadata": {},
   "outputs": [
    {
     "data": {
      "text/plain": [
       "{'tp': 66,\n",
       " 'tn': 222,\n",
       " 'fp': 234,\n",
       " 'fn': 33,\n",
       " 'sens': 0.6666666666666666,\n",
       " 'spec': 0.4868421052631579,\n",
       " 'ppv': 0.22,\n",
       " 'npv': 0.8705882352941177}"
      ]
     },
     "execution_count": 295,
     "metadata": {},
     "output_type": "execute_result"
    }
   ],
   "source": [
    "wp_pos"
   ]
  },
  {
   "cell_type": "markdown",
   "metadata": {},
   "source": [
    "datasets.pickle contains information (polarity, organism, organism part) about each dataset"
   ]
  },
  {
   "cell_type": "code",
   "execution_count": 296,
   "metadata": {},
   "outputs": [],
   "source": [
    "meta = pd.read_pickle('datasets.pickle')"
   ]
  },
  {
   "cell_type": "code",
   "execution_count": 297,
   "metadata": {},
   "outputs": [
    {
     "data": {
      "text/html": [
       "<div>\n",
       "<style scoped>\n",
       "    .dataframe tbody tr th:only-of-type {\n",
       "        vertical-align: middle;\n",
       "    }\n",
       "\n",
       "    .dataframe tbody tr th {\n",
       "        vertical-align: top;\n",
       "    }\n",
       "\n",
       "    .dataframe thead th {\n",
       "        text-align: right;\n",
       "    }\n",
       "</style>\n",
       "<table border=\"1\" class=\"dataframe\">\n",
       "  <thead>\n",
       "    <tr style=\"text-align: right;\">\n",
       "      <th></th>\n",
       "      <th>ds_id</th>\n",
       "      <th>name</th>\n",
       "      <th>polarity</th>\n",
       "      <th>organism</th>\n",
       "      <th>organism_part</th>\n",
       "      <th>analyzer</th>\n",
       "      <th>ionisation_source</th>\n",
       "      <th>maldi_matrix</th>\n",
       "    </tr>\n",
       "  </thead>\n",
       "  <tbody>\n",
       "    <tr>\n",
       "      <td>0</td>\n",
       "      <td>2019-09-13_11h37m35s</td>\n",
       "      <td>2019-09-11_FluroSlide5_DAN_75X75_NEG</td>\n",
       "      <td>Negative</td>\n",
       "      <td>Hela cells</td>\n",
       "      <td>Cells</td>\n",
       "      <td>Orbitrap</td>\n",
       "      <td>MALDI</td>\n",
       "      <td>DAN</td>\n",
       "    </tr>\n",
       "    <tr>\n",
       "      <td>1</td>\n",
       "      <td>2019-07-26_11h26m33s</td>\n",
       "      <td>240719_FDA_HELA _NA_W3_DAN_NEG_190725161642</td>\n",
       "      <td>Negative</td>\n",
       "      <td>Hela cells</td>\n",
       "      <td>Cells</td>\n",
       "      <td>Orbitrap</td>\n",
       "      <td>MALDI</td>\n",
       "      <td>DAN</td>\n",
       "    </tr>\n",
       "    <tr>\n",
       "      <td>2</td>\n",
       "      <td>2019-07-25_16h23m17s</td>\n",
       "      <td>240719_FDA_HELA _cyto_S1_DAN_NEG</td>\n",
       "      <td>Negative</td>\n",
       "      <td>Hela cells</td>\n",
       "      <td>Cells</td>\n",
       "      <td>Orbitrap</td>\n",
       "      <td>MALDI</td>\n",
       "      <td>DAN</td>\n",
       "    </tr>\n",
       "  </tbody>\n",
       "</table>\n",
       "</div>"
      ],
      "text/plain": [
       "                  ds_id                                         name  \\\n",
       "0  2019-09-13_11h37m35s         2019-09-11_FluroSlide5_DAN_75X75_NEG   \n",
       "1  2019-07-26_11h26m33s  240719_FDA_HELA _NA_W3_DAN_NEG_190725161642   \n",
       "2  2019-07-25_16h23m17s             240719_FDA_HELA _cyto_S1_DAN_NEG   \n",
       "\n",
       "   polarity    organism organism_part  analyzer ionisation_source maldi_matrix  \n",
       "0  Negative  Hela cells         Cells  Orbitrap             MALDI          DAN  \n",
       "1  Negative  Hela cells         Cells  Orbitrap             MALDI          DAN  \n",
       "2  Negative  Hela cells         Cells  Orbitrap             MALDI          DAN  "
      ]
     },
     "execution_count": 297,
     "metadata": {},
     "output_type": "execute_result"
    }
   ],
   "source": [
    "meta.head(3)"
   ]
  },
  {
   "cell_type": "code",
   "execution_count": 298,
   "metadata": {},
   "outputs": [],
   "source": [
    "def morgan_fp(molecule):\n",
    "    fp = rdkit.Chem.AllChem.GetMorganFingerprintAsBitVect(\n",
    "                                    molecule, radius=2, nBits=1024)\n",
    "    return fp"
   ]
  },
  {
   "cell_type": "code",
   "execution_count": 299,
   "metadata": {},
   "outputs": [],
   "source": [
    "def fp_to_array(fp):\n",
    "    # Convert the RDKit explicit vectors into numpy arrays\n",
    "    np_fps = []\n",
    "    arr = np.zeros((1,))\n",
    "    rdkit.DataStructs.ConvertToNumpyArray(fp, arr)\n",
    "    np_fps.append(arr)\n",
    "    return np_fps"
   ]
  },
  {
   "cell_type": "code",
   "execution_count": 300,
   "metadata": {},
   "outputs": [],
   "source": [
    "def molecure_fp_array(molecule):\n",
    "    fp = morgan_fp(molecule)\n",
    "    bits = fp_to_array(fp)\n",
    "    return bits"
   ]
  },
  {
   "cell_type": "code",
   "execution_count": 301,
   "metadata": {},
   "outputs": [],
   "source": [
    "# Could train secondary classifier to predict if assignment is T or F?\n",
    "def confuse(obs, theo):\n",
    "    o = bool(obs)\n",
    "    t = bool(theo)\n",
    "    if o == True and t == True:\n",
    "        return 1 #TP\n",
    "    elif o == False and t == False:\n",
    "        return 1 #TN\n",
    "    elif o == False and t == True:\n",
    "        return 0 #FP\n",
    "    else:\n",
    "        return 0 #FN\n",
    "            "
   ]
  },
  {
   "cell_type": "code",
   "execution_count": 302,
   "metadata": {},
   "outputs": [],
   "source": [
    "o = 'any_loss'\n",
    "t = 'c_CA-d_OH-e_OH'\n",
    "join_pos_df['confuse'] = join_pos_df[[o,t]].apply(lambda x: confuse(*x), axis=1)\n",
    "join_neg_df['confuse'] = join_neg_df[[o,t]].apply(lambda x: confuse(*x), axis=1)\n"
   ]
  },
  {
   "cell_type": "code",
   "execution_count": 303,
   "metadata": {},
   "outputs": [],
   "source": [
    "# Then apply morgan and fp"
   ]
  },
  {
   "cell_type": "code",
   "execution_count": 304,
   "metadata": {},
   "outputs": [],
   "source": [
    "molecules_rd = pd.read_pickle('molecules_rd')"
   ]
  },
  {
   "cell_type": "code",
   "execution_count": 305,
   "metadata": {},
   "outputs": [],
   "source": [
    "pos_rd = pd.merge(join_pos_df, molecules_rd, left_on=\"id\", right_on=\"id\", how=\"left\", validate=\"m:1\").copy(deep=True)\n",
    "neg_rd = pd.merge(join_neg_df, molecules_rd, left_on=\"id\", right_on=\"id\", how=\"left\", validate=\"m:1\").copy(deep=True)"
   ]
  },
  {
   "cell_type": "code",
   "execution_count": 306,
   "metadata": {},
   "outputs": [
    {
     "data": {
      "text/plain": [
       "Index(['formula', 'adduct', 'msm', 'fdr', 'off_sample', 'intensity_avg',\n",
       "       'msm_H2O', 'fdr_H2O', 'off_sample_H2O', 'intensity_avg_H2O',\n",
       "       'has_matching_loss', 'colocalization', 'ds_id', 'lir', 'polarity', 'id',\n",
       "       'any_loss', 'loss_wparent', 'a_CA', 'b_CA', 'c_CA', 'd_OH', 'e_OH',\n",
       "       'a_CA-b_CA', 'a_CA-c_CA', 'a_CA-d_OH', 'a_CA-e_OH', 'b_CA-c_CA',\n",
       "       'b_CA-d_OH', 'b_CA-e_OH', 'c_CA-d_OH', 'c_CA-e_OH', 'd_OH-e_OH',\n",
       "       'a_CA-b_CA-c_CA', 'a_CA-b_CA-d_OH', 'a_CA-b_CA-e_OH', 'a_CA-c_CA-d_OH',\n",
       "       'a_CA-c_CA-e_OH', 'a_CA-d_OH-e_OH', 'b_CA-c_CA-d_OH', 'b_CA-c_CA-e_OH',\n",
       "       'b_CA-d_OH-e_OH', 'c_CA-d_OH-e_OH', 'a_CA-b_CA-c_CA-d_OH',\n",
       "       'a_CA-b_CA-c_CA-e_OH', 'a_CA-b_CA-d_OH-e_OH', 'a_CA-c_CA-d_OH-e_OH',\n",
       "       'b_CA-c_CA-d_OH-e_OH', 'a_CA-b_CA-c_CA-d_OH-e_OH', 'confuse',\n",
       "       'mol_name', 'Molecule'],\n",
       "      dtype='object')"
      ]
     },
     "execution_count": 306,
     "metadata": {},
     "output_type": "execute_result"
    }
   ],
   "source": [
    "pos_rd.columns"
   ]
  },
  {
   "cell_type": "code",
   "execution_count": 307,
   "metadata": {},
   "outputs": [
    {
     "data": {
      "text/plain": [
       "rdkit.Chem.rdchem.Mol"
      ]
     },
     "execution_count": 307,
     "metadata": {},
     "output_type": "execute_result"
    }
   ],
   "source": [
    "# Test for function and object type\n",
    "\n",
    "lysine = 'C(CCN)CC(C(=O)O)N'\n",
    "lysine = rdkit.Chem.MolFromSmiles(lysine)\n",
    "type(lysine)"
   ]
  },
  {
   "cell_type": "code",
   "execution_count": 308,
   "metadata": {},
   "outputs": [],
   "source": [
    "# NaN's kill rdkit!  Sanitize dataframe for any in df['Molecule']"
   ]
  },
  {
   "cell_type": "code",
   "execution_count": 309,
   "metadata": {},
   "outputs": [
    {
     "data": {
      "text/plain": [
       "(1379, 52)"
      ]
     },
     "execution_count": 309,
     "metadata": {},
     "output_type": "execute_result"
    }
   ],
   "source": [
    "pos_rd.shape"
   ]
  },
  {
   "cell_type": "code",
   "execution_count": 310,
   "metadata": {},
   "outputs": [
    {
     "data": {
      "text/plain": [
       "(1357, 52)"
      ]
     },
     "execution_count": 310,
     "metadata": {},
     "output_type": "execute_result"
    }
   ],
   "source": [
    "pos_san = pos_rd.dropna(subset = ['Molecule'], axis=0, how='any')\n",
    "pos_san.shape"
   ]
  },
  {
   "cell_type": "code",
   "execution_count": 311,
   "metadata": {},
   "outputs": [
    {
     "data": {
      "text/plain": [
       "(1009, 52)"
      ]
     },
     "execution_count": 311,
     "metadata": {},
     "output_type": "execute_result"
    }
   ],
   "source": [
    "neg_rd.shape"
   ]
  },
  {
   "cell_type": "code",
   "execution_count": 312,
   "metadata": {},
   "outputs": [
    {
     "data": {
      "text/plain": [
       "(1000, 52)"
      ]
     },
     "execution_count": 312,
     "metadata": {},
     "output_type": "execute_result"
    }
   ],
   "source": [
    "neg_san = neg_rd.dropna(subset = ['Molecule'], axis=0, how='any')\n",
    "neg_san.shape"
   ]
  },
  {
   "cell_type": "code",
   "execution_count": null,
   "metadata": {},
   "outputs": [],
   "source": []
  },
  {
   "cell_type": "code",
   "execution_count": 313,
   "metadata": {},
   "outputs": [
    {
     "name": "stderr",
     "output_type": "stream",
     "text": [
      "/Users/dis/anaconda3/envs/lcenv/lib/python3.6/site-packages/ipykernel_launcher.py:1: SettingWithCopyWarning: \n",
      "A value is trying to be set on a copy of a slice from a DataFrame.\n",
      "Try using .loc[row_indexer,col_indexer] = value instead\n",
      "\n",
      "See the caveats in the documentation: http://pandas.pydata.org/pandas-docs/stable/user_guide/indexing.html#returning-a-view-versus-a-copy\n",
      "  \"\"\"Entry point for launching an IPython kernel.\n",
      "/Users/dis/anaconda3/envs/lcenv/lib/python3.6/site-packages/ipykernel_launcher.py:2: SettingWithCopyWarning: \n",
      "A value is trying to be set on a copy of a slice from a DataFrame.\n",
      "Try using .loc[row_indexer,col_indexer] = value instead\n",
      "\n",
      "See the caveats in the documentation: http://pandas.pydata.org/pandas-docs/stable/user_guide/indexing.html#returning-a-view-versus-a-copy\n",
      "  \n"
     ]
    }
   ],
   "source": [
    "pos_san['bits'] = pos_san.loc[:,'Molecule'].apply(lambda x: molecure_fp_array(x))\n",
    "neg_san['bits'] = neg_san.loc[:,'Molecule'].apply(lambda x: molecure_fp_array(x))\n"
   ]
  },
  {
   "cell_type": "code",
   "execution_count": 319,
   "metadata": {},
   "outputs": [],
   "source": [
    "pos_san.to_pickle('pos_san')\n",
    "neg_san.to_pickle('neg_san')"
   ]
  },
  {
   "cell_type": "code",
   "execution_count": 586,
   "metadata": {},
   "outputs": [],
   "source": [
    "#Split data into test and training!\n",
    "\n",
    "pos_msk = np.random.rand(len(pos_san)) < 0.8\n",
    "pos_train = pos_san[pos_msk]\n",
    "pos_test = pos_san[~pos_msk]\n",
    "\n",
    "neg_msk = np.random.rand(len(neg_san)) < 0.8\n",
    "neg_train = neg_san[neg_msk]\n",
    "neg_test = neg_san[~neg_msk]"
   ]
  },
  {
   "cell_type": "code",
   "execution_count": 587,
   "metadata": {},
   "outputs": [],
   "source": [
    "def rf_classifier(training_data):\n",
    "    # get a random forest classifiert with 100 trees\n",
    "    rf = RandomForestClassifier(n_estimators=100, random_state=1123)\n",
    "\n",
    "    # train the random forest with:\n",
    "    # 'tp or tn': 1 and fp or fn = 0\n",
    "\n",
    "    # Will be df column encoded as above\n",
    "    ys_fit = np.array(list(training_data.confuse))\n",
    "    np_fps = np.array(list(training_data.bits))\n",
    "\n",
    "    # Is a 3D array with only one vlaue in one empty axis?\n",
    "    fps_2d = np_fps.squeeze(axis = 1)\n",
    "\n",
    "    # Will be df column\n",
    "    return rf.fit(fps_2d, ys_fit)"
   ]
  },
  {
   "cell_type": "code",
   "execution_count": 588,
   "metadata": {},
   "outputs": [],
   "source": [
    "pos_rf = rf_classifier(pos_train)\n",
    "neg_rf = rf_classifier(neg_train)"
   ]
  },
  {
   "cell_type": "code",
   "execution_count": 589,
   "metadata": {},
   "outputs": [],
   "source": [
    "def rf_tester(test_data, model):\n",
    "    rf = model\n",
    "    ys_fit = np.array(list(test_data.confuse))\n",
    "    np_fps = np.array(list(test_data.bits))\n",
    "    fps_2d = np_fps.squeeze(axis = 1)\n",
    "    pred = rf.predict(fps_2d)\n",
    "    return [pred, ys_fit]"
   ]
  },
  {
   "cell_type": "code",
   "execution_count": 590,
   "metadata": {},
   "outputs": [],
   "source": [
    "pos_test = rf_tester(pos_test, pos_rf)\n",
    "neg_test = rf_tester(neg_test, neg_rf)"
   ]
  },
  {
   "cell_type": "code",
   "execution_count": null,
   "metadata": {},
   "outputs": [],
   "source": []
  },
  {
   "cell_type": "code",
   "execution_count": 591,
   "metadata": {},
   "outputs": [],
   "source": [
    "# Scikit learn functions: (Obs/Theo)\n",
    "# Alternative function with stats in pandas_ml package\n",
    "pos_confusion = confusion_matrix(pos_test[1], pos_test[0])\n",
    "neg_confusion = confusion_matrix(neg_test[1], neg_test[0])"
   ]
  },
  {
   "cell_type": "code",
   "execution_count": 592,
   "metadata": {},
   "outputs": [
    {
     "data": {
      "text/plain": [
       "array([[ 68,  43],\n",
       "       [ 22, 109]])"
      ]
     },
     "execution_count": 592,
     "metadata": {},
     "output_type": "execute_result"
    }
   ],
   "source": [
    "pos_confusion"
   ]
  },
  {
   "cell_type": "code",
   "execution_count": 593,
   "metadata": {},
   "outputs": [
    {
     "data": {
      "text/plain": [
       "array([[ 63,  33],\n",
       "       [ 20, 106]])"
      ]
     },
     "execution_count": 593,
     "metadata": {},
     "output_type": "execute_result"
    }
   ],
   "source": [
    "neg_confusion"
   ]
  },
  {
   "cell_type": "code",
   "execution_count": 594,
   "metadata": {},
   "outputs": [],
   "source": [
    "def confuse_stats(confusion_matrix_as_array):\n",
    "    # https://stackoverflow.com/questions/31324218/scikit-learn-how-to-obtain-true-positive-true-negative-false-positive-and-fal\n",
    "    arr = confusion_matrix_as_array\n",
    "    \n",
    "    FP = arr[0][1]\n",
    "    FN = arr[1][0]\n",
    "    TP = arr[1][1]\n",
    "    TN = arr[0][0]\n",
    "\n",
    "    # Sensitivity, hit rate, recall, or true positive rate\n",
    "    TPR = TP/(TP+FN)\n",
    "    # Specificity or true negative rate\n",
    "    TNR = TN/(TN+FP) \n",
    "    # Precision or positive predictive value\n",
    "    PPV = TP/(TP+FP)\n",
    "    # Negative predictive value\n",
    "    NPV = TN/(TN+FN)\n",
    "    # Fall out or false positive rate\n",
    "    FPR = FP/(FP+TN)\n",
    "    # False negative rate\n",
    "    FNR = FN/(TP+FN)\n",
    "    # False discovery rate\n",
    "    FDR = FP/(TP+FP)\n",
    "\n",
    "    # Overall accuracy\n",
    "    ACC = (TP+TN)/(TP+FP+FN+TN)\n",
    "    out_dict = {'FP': FP, 'FN': FN, 'TP': TP, 'TN': TN,\n",
    "                'TPR': TPR, 'TNR': TNR,\n",
    "                'PPV': PPV, 'NPV': NPV,\n",
    "                'FPR': FPR, 'FNR': FNR,\n",
    "                'FDR': FDR}\n",
    "    return out_dict"
   ]
  },
  {
   "cell_type": "code",
   "execution_count": 595,
   "metadata": {},
   "outputs": [],
   "source": [
    "pos_stats = confuse_stats(pos_confusion)\n",
    "neg_stats = confuse_stats(neg_confusion)"
   ]
  },
  {
   "cell_type": "code",
   "execution_count": 596,
   "metadata": {},
   "outputs": [
    {
     "data": {
      "text/plain": [
       "{'FP': 43,\n",
       " 'FN': 22,\n",
       " 'TP': 109,\n",
       " 'TN': 68,\n",
       " 'TPR': 0.8320610687022901,\n",
       " 'TNR': 0.6126126126126126,\n",
       " 'PPV': 0.7171052631578947,\n",
       " 'NPV': 0.7555555555555555,\n",
       " 'FPR': 0.38738738738738737,\n",
       " 'FNR': 0.16793893129770993,\n",
       " 'FDR': 0.28289473684210525}"
      ]
     },
     "execution_count": 596,
     "metadata": {},
     "output_type": "execute_result"
    }
   ],
   "source": [
    "pos_stats"
   ]
  },
  {
   "cell_type": "code",
   "execution_count": 597,
   "metadata": {},
   "outputs": [
    {
     "data": {
      "text/plain": [
       "{'FP': 33,\n",
       " 'FN': 20,\n",
       " 'TP': 106,\n",
       " 'TN': 63,\n",
       " 'TPR': 0.8412698412698413,\n",
       " 'TNR': 0.65625,\n",
       " 'PPV': 0.762589928057554,\n",
       " 'NPV': 0.7590361445783133,\n",
       " 'FPR': 0.34375,\n",
       " 'FNR': 0.15873015873015872,\n",
       " 'FDR': 0.23741007194244604}"
      ]
     },
     "execution_count": 597,
     "metadata": {},
     "output_type": "execute_result"
    }
   ],
   "source": [
    "neg_stats"
   ]
  },
  {
   "cell_type": "markdown",
   "metadata": {},
   "source": [
    "4) Examining cases where multiple HMDB ID’s occur:"
   ]
  },
  {
   "cell_type": "code",
   "execution_count": 598,
   "metadata": {},
   "outputs": [],
   "source": [
    "nl_n_id_df = nl_stats_df[nl_stats_df['hmdb_ids'].str.len() > 1]"
   ]
  },
  {
   "cell_type": "markdown",
   "metadata": {},
   "source": [
    "4601 rows!"
   ]
  },
  {
   "cell_type": "code",
   "execution_count": 599,
   "metadata": {},
   "outputs": [
    {
     "name": "stderr",
     "output_type": "stream",
     "text": [
      "/Users/dis/anaconda3/envs/lcenv/lib/python3.6/site-packages/pandas/core/indexing.py:376: SettingWithCopyWarning: \n",
      "A value is trying to be set on a copy of a slice from a DataFrame.\n",
      "Try using .loc[row_indexer,col_indexer] = value instead\n",
      "\n",
      "See the caveats in the documentation: http://pandas.pydata.org/pandas-docs/stable/user_guide/indexing.html#returning-a-view-versus-a-copy\n",
      "  self.obj[key] = _infer_fill_value(value)\n",
      "/Users/dis/anaconda3/envs/lcenv/lib/python3.6/site-packages/pandas/core/indexing.py:494: SettingWithCopyWarning: \n",
      "A value is trying to be set on a copy of a slice from a DataFrame.\n",
      "Try using .loc[row_indexer,col_indexer] = value instead\n",
      "\n",
      "See the caveats in the documentation: http://pandas.pydata.org/pandas-docs/stable/user_guide/indexing.html#returning-a-view-versus-a-copy\n",
      "  self.obj[item] = s\n"
     ]
    }
   ],
   "source": [
    "nl_n_id_df.loc[:,'polarity'] = nl_n_id_df.loc[:,'adduct'].apply(lambda row: check_polarity(row))"
   ]
  },
  {
   "cell_type": "code",
   "execution_count": 600,
   "metadata": {},
   "outputs": [
    {
     "data": {
      "text/plain": [
       "array(['negative', 'positive'], dtype=object)"
      ]
     },
     "execution_count": 600,
     "metadata": {},
     "output_type": "execute_result"
    }
   ],
   "source": [
    "nl_n_id_df.polarity.unique()"
   ]
  },
  {
   "cell_type": "code",
   "execution_count": 601,
   "metadata": {},
   "outputs": [],
   "source": [
    "pos_n = nl_n_id_df[nl_n_id_df.polarity == 'positive']"
   ]
  },
  {
   "cell_type": "code",
   "execution_count": 602,
   "metadata": {},
   "outputs": [],
   "source": [
    "pos_n = pos_n.copy(deep=True)"
   ]
  },
  {
   "cell_type": "code",
   "execution_count": 603,
   "metadata": {},
   "outputs": [],
   "source": [
    "neg_n = nl_n_id_df[nl_n_id_df.polarity == 'negative']"
   ]
  },
  {
   "cell_type": "code",
   "execution_count": 604,
   "metadata": {},
   "outputs": [],
   "source": [
    "neg_n = neg_n.copy(deep=True)"
   ]
  },
  {
   "cell_type": "code",
   "execution_count": 608,
   "metadata": {},
   "outputs": [],
   "source": [
    "lir = 'loss_intensity_ratio'\n",
    "\n",
    "neg_n.loc[:,'any_loss'] = neg_n.apply(lambda x: any_loss(x[lir]), axis=1)\n",
    "neg_n.loc[:,'loss_wparent'] = neg_n.apply(lambda x: loss_wparent(x[lir]), axis=1)\n",
    "\n",
    "pos_n.loc[:,'any_loss'] = pos_n.apply(lambda x: any_loss(x[lir]), axis=1)\n",
    "pos_n.loc[:,'loss_wparent'] = pos_n.apply(lambda x: loss_wparent(x[lir]), axis=1)"
   ]
  },
  {
   "cell_type": "code",
   "execution_count": 609,
   "metadata": {},
   "outputs": [
    {
     "data": {
      "text/html": [
       "<div>\n",
       "<style scoped>\n",
       "    .dataframe tbody tr th:only-of-type {\n",
       "        vertical-align: middle;\n",
       "    }\n",
       "\n",
       "    .dataframe tbody tr th {\n",
       "        vertical-align: top;\n",
       "    }\n",
       "\n",
       "    .dataframe thead th {\n",
       "        text-align: right;\n",
       "    }\n",
       "</style>\n",
       "<table border=\"1\" class=\"dataframe\">\n",
       "  <thead>\n",
       "    <tr style=\"text-align: right;\">\n",
       "      <th></th>\n",
       "      <th>formula</th>\n",
       "      <th>adduct</th>\n",
       "      <th>msm</th>\n",
       "      <th>fdr</th>\n",
       "      <th>off_sample</th>\n",
       "      <th>hmdb_ids</th>\n",
       "      <th>intensity_avg</th>\n",
       "      <th>msm_H2O</th>\n",
       "      <th>fdr_H2O</th>\n",
       "      <th>off_sample_H2O</th>\n",
       "      <th>intensity_avg_H2O</th>\n",
       "      <th>has_matching_loss</th>\n",
       "      <th>colocalization</th>\n",
       "      <th>ds_id</th>\n",
       "      <th>loss_intensity_ratio</th>\n",
       "      <th>polarity</th>\n",
       "      <th>any_loss</th>\n",
       "      <th>loss_wparent</th>\n",
       "    </tr>\n",
       "  </thead>\n",
       "  <tbody>\n",
       "    <tr>\n",
       "      <td>0</td>\n",
       "      <td>C18H30O3S</td>\n",
       "      <td>-H</td>\n",
       "      <td>0.970791</td>\n",
       "      <td>0.05</td>\n",
       "      <td>True</td>\n",
       "      <td>[HMDB0031031, HMDB0059915]</td>\n",
       "      <td>3529.194632</td>\n",
       "      <td>NaN</td>\n",
       "      <td>NaN</td>\n",
       "      <td>NaN</td>\n",
       "      <td>NaN</td>\n",
       "      <td>False</td>\n",
       "      <td>0.000000</td>\n",
       "      <td>2019-09-13_11h37m35s</td>\n",
       "      <td>0.000000</td>\n",
       "      <td>negative</td>\n",
       "      <td>False</td>\n",
       "      <td>False</td>\n",
       "    </tr>\n",
       "    <tr>\n",
       "      <td>3</td>\n",
       "      <td>C7H6O2</td>\n",
       "      <td>-H</td>\n",
       "      <td>0.904254</td>\n",
       "      <td>0.05</td>\n",
       "      <td>True</td>\n",
       "      <td>[HMDB0032918, HMDB0001870, HMDB0011718, HMDB00...</td>\n",
       "      <td>152544.310048</td>\n",
       "      <td>NaN</td>\n",
       "      <td>NaN</td>\n",
       "      <td>NaN</td>\n",
       "      <td>NaN</td>\n",
       "      <td>False</td>\n",
       "      <td>0.000000</td>\n",
       "      <td>2019-09-13_11h37m35s</td>\n",
       "      <td>0.000000</td>\n",
       "      <td>negative</td>\n",
       "      <td>False</td>\n",
       "      <td>False</td>\n",
       "    </tr>\n",
       "    <tr>\n",
       "      <td>5</td>\n",
       "      <td>C10H8N2O</td>\n",
       "      <td>-H</td>\n",
       "      <td>0.897571</td>\n",
       "      <td>0.05</td>\n",
       "      <td>True</td>\n",
       "      <td>[HMDB0037296, HMDB0038462]</td>\n",
       "      <td>74194.577421</td>\n",
       "      <td>0.825665</td>\n",
       "      <td>0.05</td>\n",
       "      <td>True</td>\n",
       "      <td>35028.833521</td>\n",
       "      <td>True</td>\n",
       "      <td>0.733495</td>\n",
       "      <td>2019-09-13_11h37m35s</td>\n",
       "      <td>0.472121</td>\n",
       "      <td>negative</td>\n",
       "      <td>True</td>\n",
       "      <td>True</td>\n",
       "    </tr>\n",
       "  </tbody>\n",
       "</table>\n",
       "</div>"
      ],
      "text/plain": [
       "     formula adduct       msm   fdr off_sample  \\\n",
       "0  C18H30O3S     -H  0.970791  0.05       True   \n",
       "3     C7H6O2     -H  0.904254  0.05       True   \n",
       "5   C10H8N2O     -H  0.897571  0.05       True   \n",
       "\n",
       "                                            hmdb_ids  intensity_avg   msm_H2O  \\\n",
       "0                         [HMDB0031031, HMDB0059915]    3529.194632       NaN   \n",
       "3  [HMDB0032918, HMDB0001870, HMDB0011718, HMDB00...  152544.310048       NaN   \n",
       "5                         [HMDB0037296, HMDB0038462]   74194.577421  0.825665   \n",
       "\n",
       "   fdr_H2O off_sample_H2O  intensity_avg_H2O  has_matching_loss  \\\n",
       "0      NaN            NaN                NaN              False   \n",
       "3      NaN            NaN                NaN              False   \n",
       "5     0.05           True       35028.833521               True   \n",
       "\n",
       "   colocalization                 ds_id  loss_intensity_ratio  polarity  \\\n",
       "0        0.000000  2019-09-13_11h37m35s              0.000000  negative   \n",
       "3        0.000000  2019-09-13_11h37m35s              0.000000  negative   \n",
       "5        0.733495  2019-09-13_11h37m35s              0.472121  negative   \n",
       "\n",
       "   any_loss  loss_wparent  \n",
       "0     False         False  \n",
       "3     False         False  \n",
       "5      True          True  "
      ]
     },
     "execution_count": 609,
     "metadata": {},
     "output_type": "execute_result"
    }
   ],
   "source": [
    "neg_n.head(3)"
   ]
  },
  {
   "cell_type": "code",
   "execution_count": 610,
   "metadata": {},
   "outputs": [],
   "source": [
    "predicted_df = pd.read_pickle('hmdb_structures_CA_OH.pickle')"
   ]
  },
  {
   "cell_type": "code",
   "execution_count": 611,
   "metadata": {},
   "outputs": [],
   "source": [
    "ids = list(predicted_df['id'])\n",
    "preds = list(predicted_df['c_CA-d_OH-e_OH'])\n",
    "loss_dict = dict(zip(ids, preds))"
   ]
  },
  {
   "cell_type": "code",
   "execution_count": 612,
   "metadata": {},
   "outputs": [],
   "source": [
    "def loss_obs(hmdb_ids):\n",
    "    # Return 0 if no hmdb's are predicted to lose water,\n",
    "    #1 if some do, 2 if all.\n",
    "    \n",
    "    loss_obs = []\n",
    "    for hmdb_id in hmdb_ids:\n",
    "        try:\n",
    "            if loss_dict[hmdb_id] == True:\n",
    "                loss_obs.append(1)\n",
    "            elif loss_dict[hmdb_id] == False:\n",
    "                loss_obs.append(0)\n",
    "        except:\n",
    "            pass\n",
    "    \n",
    "    loss_arr = np.array(loss_obs)\n",
    "    \n",
    "    if loss_arr.prod() == 0 and loss_arr.sum() == 0:\n",
    "        return 0\n",
    "    \n",
    "    elif loss_arr.prod() ==0 and loss_arr.sum() > 0:\n",
    "        return 1\n",
    "    \n",
    "    else:\n",
    "        return 2"
   ]
  },
  {
   "cell_type": "code",
   "execution_count": 613,
   "metadata": {},
   "outputs": [],
   "source": [
    "pos_n['loss_n_id'] = pos_n.apply(lambda x: loss_obs(x['hmdb_ids']), axis=1)\n",
    "neg_n['loss_n_id'] = neg_n.apply(lambda x: loss_obs(x['hmdb_ids']), axis=1)"
   ]
  },
  {
   "cell_type": "code",
   "execution_count": 614,
   "metadata": {},
   "outputs": [],
   "source": [
    "pos_n_counts = pos_n.loss_n_id.value_counts(normalize=True)\n",
    "neg_n_counts = neg_n.loss_n_id.value_counts(normalize=True)"
   ]
  },
  {
   "cell_type": "code",
   "execution_count": 615,
   "metadata": {},
   "outputs": [
    {
     "data": {
      "text/plain": [
       "2    0.373885\n",
       "1    0.352798\n",
       "0    0.273317\n",
       "Name: loss_n_id, dtype: float64"
      ]
     },
     "execution_count": 615,
     "metadata": {},
     "output_type": "execute_result"
    }
   ],
   "source": [
    "pos_n_counts"
   ]
  },
  {
   "cell_type": "code",
   "execution_count": 616,
   "metadata": {},
   "outputs": [
    {
     "data": {
      "text/plain": [
       "2    0.536768\n",
       "1    0.384075\n",
       "0    0.079157\n",
       "Name: loss_n_id, dtype: float64"
      ]
     },
     "execution_count": 616,
     "metadata": {},
     "output_type": "execute_result"
    }
   ],
   "source": [
    "neg_n_counts"
   ]
  },
  {
   "cell_type": "code",
   "execution_count": 617,
   "metadata": {},
   "outputs": [],
   "source": [
    "pos_n_clean = pos_n[pos_n.loss_n_id != 1]\n",
    "neg_n_clean = neg_n[neg_n.loss_n_id != 1]"
   ]
  },
  {
   "cell_type": "code",
   "execution_count": 626,
   "metadata": {},
   "outputs": [],
   "source": [
    "pos_theo = pos_n_clean.loss_n_id.astype('bool') \n",
    "pos_obs_any = pos_n_clean.any_loss.astype('bool') \n",
    "pos_obs_p = pos_n_clean.loss_wparent.astype('bool') \n",
    "\n",
    "neg_theo = neg_n_clean.loss_n_id.astype('bool') \n",
    "neg_obs_any = neg_n_clean.any_loss.astype('bool') \n",
    "neg_obs_p = neg_n_clean.loss_wparent.astype('bool') "
   ]
  },
  {
   "cell_type": "code",
   "execution_count": 632,
   "metadata": {},
   "outputs": [],
   "source": [
    "# Scikit learn functions: (Obs/Theo)\n",
    "pos_conf_any = confusion_matrix(pos_obs_any, pos_theo)\n",
    "neg_conf_any = confusion_matrix(neg_obs_any, neg_theo)\n",
    "\n",
    "pos_conf_par = confusion_matrix(pos_obs_p, pos_theo)\n",
    "neg_conf_par = confusion_matrix(neg_obs_p, neg_theo)"
   ]
  },
  {
   "cell_type": "code",
   "execution_count": 640,
   "metadata": {},
   "outputs": [],
   "source": [
    "pos_stats_any = confuse_stats(pos_conf_any)\n",
    "neg_stats_any = confuse_stats(neg_conf_any)\n",
    "\n",
    "pos_stats_par = confuse_stats(pos_conf_par)\n",
    "neg_stats_par = confuse_stats(neg_conf_par)"
   ]
  },
  {
   "cell_type": "code",
   "execution_count": 643,
   "metadata": {},
   "outputs": [
    {
     "data": {
      "text/plain": [
       "{'FP': 835,\n",
       " 'FN': 10,\n",
       " 'TP': 311,\n",
       " 'TN': 159,\n",
       " 'TPR': 0.9688473520249221,\n",
       " 'TNR': 0.15995975855130784,\n",
       " 'PPV': 0.27137870855148344,\n",
       " 'NPV': 0.9408284023668639,\n",
       " 'FPR': 0.8400402414486922,\n",
       " 'FNR': 0.03115264797507788,\n",
       " 'FDR': 0.7286212914485166}"
      ]
     },
     "execution_count": 643,
     "metadata": {},
     "output_type": "execute_result"
    }
   ],
   "source": [
    "neg_stats_par"
   ]
  },
  {
   "cell_type": "code",
   "execution_count": null,
   "metadata": {},
   "outputs": [],
   "source": []
  },
  {
   "cell_type": "code",
   "execution_count": null,
   "metadata": {},
   "outputs": [],
   "source": []
  }
 ],
 "metadata": {
  "kernelspec": {
   "display_name": "Python 3",
   "language": "python",
   "name": "python3"
  },
  "language_info": {
   "codemirror_mode": {
    "name": "ipython",
    "version": 3
   },
   "file_extension": ".py",
   "mimetype": "text/x-python",
   "name": "python",
   "nbconvert_exporter": "python",
   "pygments_lexer": "ipython3",
   "version": "3.6.8"
  }
 },
 "nbformat": 4,
 "nbformat_minor": 2
}
