{
 "cells": [
  {
   "cell_type": "markdown",
   "metadata": {},
   "source": [
    "This is a notebook to test manipulation of the hmdb pickle generated\n",
    "from Lachlan's scrript\n",
    "\n",
    "This is a list of 114,100 members, with each entry as a dict."
   ]
  },
  {
   "cell_type": "code",
   "execution_count": 18,
   "metadata": {},
   "outputs": [],
   "source": [
    "import pickle\n",
    "import numpy as np\n",
    "import pandas as pd\n",
    "from pandas import DataFrame as df"
   ]
  },
  {
   "cell_type": "code",
   "execution_count": 19,
   "metadata": {},
   "outputs": [],
   "source": [
    "hmdb_mols = pickle.load(open('hmdb_mols.pickle', 'rb'))"
   ]
  },
  {
   "cell_type": "code",
   "execution_count": 23,
   "metadata": {},
   "outputs": [],
   "source": [
    "hmdb_df = df(hmdb_mols)"
   ]
  },
  {
   "cell_type": "code",
   "execution_count": 25,
   "metadata": {},
   "outputs": [
    {
     "data": {
      "text/html": [
       "<div>\n",
       "<style scoped>\n",
       "    .dataframe tbody tr th:only-of-type {\n",
       "        vertical-align: middle;\n",
       "    }\n",
       "\n",
       "    .dataframe tbody tr th {\n",
       "        vertical-align: top;\n",
       "    }\n",
       "\n",
       "    .dataframe thead th {\n",
       "        text-align: right;\n",
       "    }\n",
       "</style>\n",
       "<table border=\"1\" class=\"dataframe\">\n",
       "  <thead>\n",
       "    <tr style=\"text-align: right;\">\n",
       "      <th></th>\n",
       "      <th>biospecimen_locations</th>\n",
       "      <th>cellular_locations</th>\n",
       "      <th>class</th>\n",
       "      <th>direct_parent</th>\n",
       "      <th>formula</th>\n",
       "      <th>id</th>\n",
       "      <th>inchi</th>\n",
       "      <th>kingdom</th>\n",
       "      <th>mol_name</th>\n",
       "      <th>molecular_framework</th>\n",
       "      <th>pathways</th>\n",
       "      <th>sub_class</th>\n",
       "      <th>substituents</th>\n",
       "      <th>super_class</th>\n",
       "      <th>tissue_locations</th>\n",
       "    </tr>\n",
       "  </thead>\n",
       "  <tbody>\n",
       "    <tr>\n",
       "      <th>0</th>\n",
       "      <td>[Blood, Cerebrospinal Fluid (CSF), Feces, Sali...</td>\n",
       "      <td>[Cytoplasm]</td>\n",
       "      <td>Carboxylic acids and derivatives</td>\n",
       "      <td>Histidine and derivatives</td>\n",
       "      <td>C7H11N3O2</td>\n",
       "      <td>HMDB0000001</td>\n",
       "      <td>InChI=1S/C7H11N3O2/c1-10-3-5(9-4-10)2-6(8)7(11...</td>\n",
       "      <td>Organic compounds</td>\n",
       "      <td>1-Methylhistidine</td>\n",
       "      <td>Aromatic heteromonocyclic compounds</td>\n",
       "      <td>[Histidine Metabolism, Histidinemia]</td>\n",
       "      <td>Amino acids, peptides, and analogues</td>\n",
       "      <td>[Alpha-amino acid, Amine, Amino acid, Aralkyla...</td>\n",
       "      <td>Organic acids and derivatives</td>\n",
       "      <td>[Muscle, Skeletal Muscle]</td>\n",
       "    </tr>\n",
       "    <tr>\n",
       "      <th>1</th>\n",
       "      <td>[Blood, Feces, Urine]</td>\n",
       "      <td>[Cytoplasm]</td>\n",
       "      <td>Organonitrogen compounds</td>\n",
       "      <td>Monoalkylamines</td>\n",
       "      <td>C3H10N2</td>\n",
       "      <td>HMDB0000002</td>\n",
       "      <td>InChI=1S/C3H10N2/c4-2-1-3-5/h1-5H2</td>\n",
       "      <td>Organic compounds</td>\n",
       "      <td>1,3-Diaminopropane</td>\n",
       "      <td>Aliphatic acyclic compounds</td>\n",
       "      <td>[Beta-Alanine Metabolism, Carnosinuria, carnos...</td>\n",
       "      <td>Amines</td>\n",
       "      <td>[Aliphatic acyclic compound, Hydrocarbon deriv...</td>\n",
       "      <td>Organic nitrogen compounds</td>\n",
       "      <td>[]</td>\n",
       "    </tr>\n",
       "    <tr>\n",
       "      <th>2</th>\n",
       "      <td>[Blood, Cerebrospinal Fluid (CSF), Saliva, Urine]</td>\n",
       "      <td>[Cytoplasm]</td>\n",
       "      <td>Keto acids and derivatives</td>\n",
       "      <td>Short-chain keto acids and derivatives</td>\n",
       "      <td>C4H6O3</td>\n",
       "      <td>HMDB0000005</td>\n",
       "      <td>InChI=1S/C4H6O3/c1-2-3(5)4(6)7/h2H2,1H3,(H,6,7)</td>\n",
       "      <td>Organic compounds</td>\n",
       "      <td>2-Ketobutyric acid</td>\n",
       "      <td>Aliphatic acyclic compounds</td>\n",
       "      <td>[3-Phosphoglycerate dehydrogenase deficiency, ...</td>\n",
       "      <td>Short-chain keto acids and derivatives</td>\n",
       "      <td>[Aliphatic acyclic compound, Alpha-hydroxy ket...</td>\n",
       "      <td>Organic acids and derivatives</td>\n",
       "      <td>[]</td>\n",
       "    </tr>\n",
       "  </tbody>\n",
       "</table>\n",
       "</div>"
      ],
      "text/plain": [
       "                               biospecimen_locations cellular_locations  \\\n",
       "0  [Blood, Cerebrospinal Fluid (CSF), Feces, Sali...        [Cytoplasm]   \n",
       "1                              [Blood, Feces, Urine]        [Cytoplasm]   \n",
       "2  [Blood, Cerebrospinal Fluid (CSF), Saliva, Urine]        [Cytoplasm]   \n",
       "\n",
       "                              class                           direct_parent  \\\n",
       "0  Carboxylic acids and derivatives               Histidine and derivatives   \n",
       "1          Organonitrogen compounds                         Monoalkylamines   \n",
       "2        Keto acids and derivatives  Short-chain keto acids and derivatives   \n",
       "\n",
       "     formula           id                                              inchi  \\\n",
       "0  C7H11N3O2  HMDB0000001  InChI=1S/C7H11N3O2/c1-10-3-5(9-4-10)2-6(8)7(11...   \n",
       "1    C3H10N2  HMDB0000002                 InChI=1S/C3H10N2/c4-2-1-3-5/h1-5H2   \n",
       "2     C4H6O3  HMDB0000005    InChI=1S/C4H6O3/c1-2-3(5)4(6)7/h2H2,1H3,(H,6,7)   \n",
       "\n",
       "             kingdom            mol_name                  molecular_framework  \\\n",
       "0  Organic compounds   1-Methylhistidine  Aromatic heteromonocyclic compounds   \n",
       "1  Organic compounds  1,3-Diaminopropane          Aliphatic acyclic compounds   \n",
       "2  Organic compounds  2-Ketobutyric acid          Aliphatic acyclic compounds   \n",
       "\n",
       "                                            pathways  \\\n",
       "0               [Histidine Metabolism, Histidinemia]   \n",
       "1  [Beta-Alanine Metabolism, Carnosinuria, carnos...   \n",
       "2  [3-Phosphoglycerate dehydrogenase deficiency, ...   \n",
       "\n",
       "                                sub_class  \\\n",
       "0    Amino acids, peptides, and analogues   \n",
       "1                                  Amines   \n",
       "2  Short-chain keto acids and derivatives   \n",
       "\n",
       "                                        substituents  \\\n",
       "0  [Alpha-amino acid, Amine, Amino acid, Aralkyla...   \n",
       "1  [Aliphatic acyclic compound, Hydrocarbon deriv...   \n",
       "2  [Aliphatic acyclic compound, Alpha-hydroxy ket...   \n",
       "\n",
       "                     super_class           tissue_locations  \n",
       "0  Organic acids and derivatives  [Muscle, Skeletal Muscle]  \n",
       "1     Organic nitrogen compounds                         []  \n",
       "2  Organic acids and derivatives                         []  "
      ]
     },
     "execution_count": 25,
     "metadata": {},
     "output_type": "execute_result"
    }
   ],
   "source": [
    "hmdb_df.head(3)"
   ]
  },
  {
   "cell_type": "code",
   "execution_count": 26,
   "metadata": {},
   "outputs": [
    {
     "data": {
      "text/plain": [
       "(114100, 15)"
      ]
     },
     "execution_count": 26,
     "metadata": {},
     "output_type": "execute_result"
    }
   ],
   "source": [
    "hmdb_df.shape"
   ]
  },
  {
   "cell_type": "code",
   "execution_count": 27,
   "metadata": {},
   "outputs": [],
   "source": [
    "headers = list(hmdb_df)"
   ]
  },
  {
   "cell_type": "code",
   "execution_count": 28,
   "metadata": {},
   "outputs": [
    {
     "data": {
      "text/plain": [
       "['biospecimen_locations',\n",
       " 'cellular_locations',\n",
       " 'class',\n",
       " 'direct_parent',\n",
       " 'formula',\n",
       " 'id',\n",
       " 'inchi',\n",
       " 'kingdom',\n",
       " 'mol_name',\n",
       " 'molecular_framework',\n",
       " 'pathways',\n",
       " 'sub_class',\n",
       " 'substituents',\n",
       " 'super_class',\n",
       " 'tissue_locations']"
      ]
     },
     "execution_count": 28,
     "metadata": {},
     "output_type": "execute_result"
    }
   ],
   "source": [
    "headers"
   ]
  },
  {
   "cell_type": "code",
   "execution_count": null,
   "metadata": {},
   "outputs": [],
   "source": []
  }
 ],
 "metadata": {
  "kernelspec": {
   "display_name": "Python 3",
   "language": "python",
   "name": "python3"
  },
  "language_info": {
   "codemirror_mode": {
    "name": "ipython",
    "version": 3
   },
   "file_extension": ".py",
   "mimetype": "text/x-python",
   "name": "python",
   "nbconvert_exporter": "python",
   "pygments_lexer": "ipython3",
   "version": "3.7.3"
  }
 },
 "nbformat": 4,
 "nbformat_minor": 2
}
